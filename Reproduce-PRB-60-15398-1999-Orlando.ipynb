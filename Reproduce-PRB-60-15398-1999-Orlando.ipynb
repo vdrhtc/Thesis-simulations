{
 "metadata": {
  "name": "",
  "signature": "sha256:d40387c0378edba13953df181ef4055991e76060a0cca7f94d116bb70271019f"
 },
 "nbformat": 3,
 "nbformat_minor": 0,
 "worksheets": [
  {
   "cells": [
    {
     "cell_type": "heading",
     "level": 1,
     "metadata": {},
     "source": [
      "Reproduce: Orlando et al., Phys. Rev. B 60, 15398 (1999)"
     ]
    },
    {
     "cell_type": "markdown",
     "metadata": {},
     "source": [
      "J. R. Johansson, http://jrjohansson.github.com, <robert@riken.jp>"
     ]
    },
    {
     "cell_type": "code",
     "collapsed": false,
     "input": [
      "%matplotlib inline"
     ],
     "language": "python",
     "metadata": {},
     "outputs": [],
     "prompt_number": 1
    },
    {
     "cell_type": "code",
     "collapsed": false,
     "input": [
      "import numpy as np\n",
      "import matplotlib.pyplot as plt\n",
      "import matplotlib.cm as cm\n",
      "import pickle"
     ],
     "language": "python",
     "metadata": {},
     "outputs": [],
     "prompt_number": 2
    },
    {
     "cell_type": "code",
     "collapsed": false,
     "input": [
      "from wavefunction.wavefunction2d import *\n",
      "from wavefunction import *\n",
      "import wavefunction"
     ],
     "language": "python",
     "metadata": {},
     "outputs": [],
     "prompt_number": 3
    },
    {
     "cell_type": "code",
     "collapsed": false,
     "input": [
      "def load(filename):\n",
      "    with open(filename, \"rb\") as f:\n",
      "        return pickle.load(f)\n",
      "def dump(obj, filename):\n",
      "    with open(filename, \"wb\") as f:\n",
      "        pickle.dump(obj, f)"
     ],
     "language": "python",
     "metadata": {},
     "outputs": [],
     "prompt_number": 4
    },
    {
     "cell_type": "code",
     "collapsed": false,
     "input": [
      "np.__config__.show()"
     ],
     "language": "python",
     "metadata": {},
     "outputs": [
      {
       "output_type": "stream",
       "stream": "stdout",
       "text": [
        "openblas_info:\n",
        "    libraries = ['openblas']\n",
        "    library_dirs = ['/opt/OpenBLAS/lib/']\n",
        "    language = f77\n",
        "openblas_lapack_info:\n",
        "    libraries = ['openblas']\n",
        "    library_dirs = ['/opt/OpenBLAS/lib/']\n",
        "    language = f77\n",
        "blas_mkl_info:\n",
        "  NOT AVAILABLE\n",
        "blas_opt_info:\n",
        "    libraries = ['openblas']\n",
        "    library_dirs = ['/opt/OpenBLAS/lib/']\n",
        "    language = f77\n",
        "lapack_opt_info:\n",
        "    libraries = ['openblas']\n",
        "    library_dirs = ['/opt/OpenBLAS/lib/']\n",
        "    language = f77\n"
       ]
      }
     ],
     "prompt_number": 5
    },
    {
     "cell_type": "heading",
     "level": 1,
     "metadata": {},
     "source": [
      "Rotated coordinates"
     ]
    },
    {
     "cell_type": "markdown",
     "metadata": {},
     "source": [
      "The same problem can also be solved in a rotated coordinate system. The Hamiltonian in the rotated coordinates, where $\\phi_p = (\\phi_1 + \\phi_2)/2$ and $\\phi_m = (\\phi_1 - \\phi_2)/2$, is [Ex. (12) in Orlando et al.]\n",
      "\n",
      "$H_t = \\frac{1}{2M_p}\\left(-i\\hbar\\frac{\\partial}{\\partial\\phi_p}\\right)^2 + \\frac{1}{2M_m}\\left(-i\\hbar\\frac{\\partial}{\\partial\\phi_m}\\right)^2 + E_J(2 + \\alpha - 2 \\cos\\phi_p\\cos\\phi_m - \\alpha\\cos(2\\pi f + 2 \\phi_m))$\n",
      "\n",
      "where\n",
      "\n",
      "$M_p = \\left(\\frac{\\Phi_0}{2\\pi}\\right)^2 2 C(1 + \\gamma),$\n",
      "\n",
      "$M_m = \\left(\\frac{\\Phi_0}{2\\pi}\\right)^2 2 C(1 + 2\\alpha + \\gamma).$\n",
      "\n",
      "For the numerical calculations we use units of $E_J$\n",
      "\n",
      "$H_t = -\\frac{2}{1 + \\gamma}\\frac{E_C}{E_J}\\left(\\frac{\\partial}{\\partial\\phi_p}\\right)^2 \n",
      "- \\frac{2}{1 + 2\\alpha + \\gamma}\\frac{E_C}{E_J}\\left(\\frac{\\partial}{\\partial\\phi_m}\\right)^2 + (2 + \\alpha - 2 \\cos\\phi_p\\cos\\phi_m - \\alpha\\cos(2\\pi f + 2 \\phi_m))$\n"
     ]
    },
    {
     "cell_type": "heading",
     "level": 3,
     "metadata": {},
     "source": [
      "Parameters"
     ]
    },
    {
     "cell_type": "code",
     "collapsed": false,
     "input": [
      "args = {'Ec': 1, 'Ej': 30.0, 'alpha': 0.7, 'gamma': 0, 'f': 0.5}"
     ],
     "language": "python",
     "metadata": {},
     "outputs": [],
     "prompt_number": 6
    },
    {
     "cell_type": "code",
     "collapsed": false,
     "input": [
      "globals().update(args)"
     ],
     "language": "python",
     "metadata": {},
     "outputs": [],
     "prompt_number": 7
    },
    {
     "cell_type": "heading",
     "level": 3,
     "metadata": {},
     "source": [
      "Assembling the matrix for the kinetic contribution"
     ]
    },
    {
     "cell_type": "markdown",
     "metadata": {},
     "source": [
      "The kinetic part of the Hamiltonian can be written on the form\n",
      "\n",
      "$\\displaystyle K_{n_1, n_2}^{m_1, m_2} = \\delta_{n_1,m_1} \\delta_{n_2,m_2}\n",
      "\\left(k_{11}\\left(\\frac{2\\pi m_1}{T_{x_1}}\\right)^2 + k_{12}\\frac{(2\\pi)^2 m_1m_2}{T_{x_1}T_{x_2}} + k_{22}\\left(\\frac{2\\pi m_2}{T_{x_2}}\\right)^2\\right)$\n",
      "\n",
      "with\n",
      "\n",
      "$k_{11} = \\frac{1}{2}\\frac{E_C}{E_J}$\n",
      "\n",
      "$k_{12} = 0$\n",
      "\n",
      "$k_{22} = \\frac{1}{2(1 + 2\\alpha)}\\frac{E_C}{E_J}$"
     ]
    },
    {
     "cell_type": "code",
     "collapsed": false,
     "input": [
      "# pick a truncation of the fourier series: n1 = [-L1, ..., L1], n2 = [-L2, ..., L2]\n",
      "L1 = 20\n",
      "L2 = 20\n",
      "\n",
      "# pick periods for the coordinates\n",
      "Tx1 = Tx2 = 2 * np.pi\n",
      "\n",
      "#\n",
      "k11, k12, k22 = 0.5 / (1 + 2*alpha) * Ec / Ej, 0.0, 0.5 * Ec / Ej"
     ],
     "language": "python",
     "metadata": {},
     "outputs": [],
     "prompt_number": 8
    },
    {
     "cell_type": "code",
     "collapsed": false,
     "input": [
      "K = assemble_K(L1, L2, k11, k12, k22, Tx1, Tx2)"
     ],
     "language": "python",
     "metadata": {},
     "outputs": [],
     "prompt_number": 9
    },
    {
     "cell_type": "heading",
     "level": 3,
     "metadata": {},
     "source": [
      "Assembling the matrix for the potential contribution"
     ]
    },
    {
     "cell_type": "markdown",
     "metadata": {},
     "source": [
      "The flux qubit potential we consider here is\n",
      "\n",
      "$\\displaystyle U(x_p, x_m) = 2 + \\alpha - 2 \\cos\\phi_p\\cos\\phi_m - \\alpha\\cos(2\\pi f - 2 \\phi_p)$\n",
      "\n",
      "To obtain the Fourier series expansion of $U(x_p, x_m)$, we first write the $\\cos$ expressions as exponential functions\n",
      "\n",
      "$\\displaystyle U(x_p, x_m) = 2 + \\alpha\n",
      "- \\frac{1}{2}(e^{ix_p}e^{ix_m} + e^{ix_p}e^{-ix_m} + e^{-ix_p}e^{ix_m} + e^{-ix_p}e^{-ix_m})\n",
      "- \\alpha\\frac{1}{2}(e^{i2\\pi f}e^{-i2x_p} + e^{-i2\\pi f}e^{i2x_p})$"
     ]
    },
    {
     "cell_type": "markdown",
     "metadata": {},
     "source": [
      "Now, by comparing with the Fourier series"
     ]
    },
    {
     "cell_type": "markdown",
     "metadata": {},
     "source": [
      "$\\displaystyle U(x_p, x_m) = \\sum_{n_1}\\sum_{n_2} u_{n_1n_2} e^{in_1x_p}e^{in_2x_m}$\n",
      "\n",
      "we can identity\n",
      "\n",
      "$\\displaystyle u_{n_1n_2} = (2 + \\alpha) \\delta_{0,n_1}\\delta_{0,n_2} \n",
      "- \n",
      "\\frac{1}{2}\n",
      "(\n",
      "\\delta_{1, n_1}\\delta_{1, n_2} + \n",
      "\\delta_{1, n_1}\\delta_{-1,n_2} + \n",
      "\\delta_{-1, n_1}\\delta_{1,n_2} + \n",
      "\\delta_{-1, n_1}\\delta_{-1,n_2}\n",
      ")\n",
      "- \n",
      "\\frac{\\alpha}{2} (e^{i2\\pi f} \\delta_{0,n_2}\\delta_{-2,n_1} + e^{-i2\\pi f}\\delta_{0,n_2}\\delta_{2,n_1}) $"
     ]
    },
    {
     "cell_type": "heading",
     "level": 3,
     "metadata": {},
     "source": [
      "Fourier series decomposition of flux qubit potential"
     ]
    },
    {
     "cell_type": "code",
     "collapsed": false,
     "input": [
      "def assemble_u_flux_qubit(L1, L2, args, sparse=False):\n",
      "\n",
      "    globals().update(args)\n",
      "    \n",
      "    L1n = 2 * L1 + 1\n",
      "    L2n = 2 * L2 + 1\n",
      "    \n",
      "    u = np.zeros((L1n, L2n), dtype=np.complex)\n",
      "\n",
      "    u[L1, L2] = 2 + alpha\n",
      "\n",
      "    u[+1+L1, +1+L2] = - 0.5\n",
      "    u[-1+L1, +1+L2] = - 0.5\n",
      "    u[+1+L1, -1+L2] = - 0.5\n",
      "    u[-1+L1, -1+L2] = - 0.5\n",
      "\n",
      "    u[-2+L1, +L2] = -0.5 * alpha * np.exp(+2j * np.pi * f)\n",
      "    u[2+L1, +L2] = -0.5 * alpha * np.exp(-2j * np.pi * f)\n",
      "\n",
      "    return u"
     ],
     "language": "python",
     "metadata": {},
     "outputs": [],
     "prompt_number": 10
    },
    {
     "cell_type": "code",
     "collapsed": false,
     "input": [
      "u = assemble_u_flux_qubit(L1, L2, args)"
     ],
     "language": "python",
     "metadata": {},
     "outputs": [],
     "prompt_number": 11
    },
    {
     "cell_type": "heading",
     "level": 3,
     "metadata": {},
     "source": [
      "Check: Evaluate and plot the Fourier series representation of the flux qubit potential and compare to direct evaluation"
     ]
    },
    {
     "cell_type": "code",
     "collapsed": false,
     "input": [
      "phi_p = np.linspace(-1*np.pi, 1*np.pi, 100)\n",
      "phi_m = np.linspace(-1*np.pi, 1*np.pi, 100)\n",
      "PHI_P, PHI_M = np.meshgrid(phi_p, phi_m)"
     ],
     "language": "python",
     "metadata": {},
     "outputs": [],
     "prompt_number": 12
    },
    {
     "cell_type": "code",
     "collapsed": false,
     "input": [
      "def U_flux_qubit(phi_p, phi_m, args):\n",
      "    globals().update(args)\n",
      "    return 2 + alpha - 2 * np.cos(phi_p) * np.cos(phi_m) - alpha * np.cos(2 * np.pi * f - 2 * phi_p)"
     ],
     "language": "python",
     "metadata": {},
     "outputs": [],
     "prompt_number": 13
    },
    {
     "cell_type": "code",
     "collapsed": false,
     "input": [
      "U1 = U_flux_qubit(PHI_P, PHI_M, args)"
     ],
     "language": "python",
     "metadata": {},
     "outputs": [],
     "prompt_number": 14
    },
    {
     "cell_type": "code",
     "collapsed": false,
     "input": [
      "U2 = evalute_fourier_series(PHI_P, PHI_M, L1, L2, u)"
     ],
     "language": "python",
     "metadata": {},
     "outputs": [],
     "prompt_number": 15
    },
    {
     "cell_type": "code",
     "collapsed": false,
     "input": [
      "fig, axes = plt.subplots(1, 2, figsize=(10, 4))\n",
      "\n",
      "# reconstructed\n",
      "Z = np.real(U2)\n",
      "p = axes[0].pcolor(PHI_P/(2*np.pi), PHI_M/(2*np.pi), Z, cmap=cm.RdBu, vmin=Z.min(), vmax=Z.max())\n",
      "cb = fig.colorbar(p, ax=axes[0])\n",
      "axes[0].axis('tight')\n",
      "axes[0].set_xlabel(r'$\\varphi_p$', fontsize=16)\n",
      "axes[0].set_ylabel(r'$\\varphi_m$', fontsize=16)\n",
      "axes[0].set_title('Potential from Fourier series')\n",
      "\n",
      "# original\n",
      "Z = np.real(U1)\n",
      "p = axes[1].pcolor(PHI_P/(2*np.pi), PHI_M/(2*np.pi), Z, cmap=cm.RdBu, vmin=Z.min(), vmax=Z.max())\n",
      "cb = fig.colorbar(p, ax=axes[1])\n",
      "axes[1].set_xlabel(r'$\\varphi_p$', fontsize=16)\n",
      "axes[1].set_ylabel(r'$\\varphi_m$', fontsize=16)\n",
      "axes[1].axis('tight')\n",
      "axes[1].set_title('Potential directly form expression');"
     ],
     "language": "python",
     "metadata": {},
     "outputs": [
      {
       "metadata": {},
       "output_type": "display_data",
       "png": "[encoded data removed]",
       "text": [
        "<matplotlib.figure.Figure at 0x7f92747dc510>"
       ]
      }
     ],
     "prompt_number": 16
    },
    {
     "cell_type": "heading",
     "level": 3,
     "metadata": {},
     "source": [
      "Potential contribution to the eigenvalue problem"
     ]
    },
    {
     "cell_type": "markdown",
     "metadata": {},
     "source": [
      "Given this Fourier series we can calcuate the potential contribution to the eigenvalue problem as\n",
      "\n",
      "\n",
      "$\\displaystyle V_{n_1, n_2}^{m_1, m_2} = u_{n_1-m_1,n_2-m_2}$"
     ]
    },
    {
     "cell_type": "code",
     "collapsed": false,
     "input": [
      "V = assemble_V(L1, L2, u)"
     ],
     "language": "python",
     "metadata": {},
     "outputs": [],
     "prompt_number": 17
    },
    {
     "cell_type": "heading",
     "level": 2,
     "metadata": {},
     "source": [
      "Solving the eigenvalue problem"
     ]
    },
    {
     "cell_type": "markdown",
     "metadata": {},
     "source": [
      "We now want to solve the eigenvalue problem\n",
      "\n",
      "$H \\Psi = E \\Psi$\n",
      "\n",
      "where $H$ is the matrix representation of the Hamiltonian assembled from $K$ and $V$ above."
     ]
    },
    {
     "cell_type": "code",
     "collapsed": false,
     "input": [
      "H = K + V"
     ],
     "language": "python",
     "metadata": {},
     "outputs": [],
     "prompt_number": 18
    },
    {
     "cell_type": "code",
     "collapsed": false,
     "input": [
      "vals, vecs = solve_eigenproblem(H)"
     ],
     "language": "python",
     "metadata": {},
     "outputs": [],
     "prompt_number": 19
    },
    {
     "cell_type": "code",
     "collapsed": false,
     "input": [
      "H.shape"
     ],
     "language": "python",
     "metadata": {},
     "outputs": [
      {
       "metadata": {},
       "output_type": "pyout",
       "prompt_number": 20,
       "text": [
        "(1681, 1681)"
       ]
      }
     ],
     "prompt_number": 20
    },
    {
     "cell_type": "code",
     "collapsed": false,
     "input": [
      "psi = convert_v2m(L1, L2, vecs[4])\n",
      "PSI = evalute_fourier_series(PHI_P, PHI_M, L1, L2, psi)\n",
      "PSI2 = evalute_fourier_series(PHI_P, PHI_M, L1, L2, convert_v2m(L1, L2, vecs[7]))"
     ],
     "language": "python",
     "metadata": {},
     "outputs": [],
     "prompt_number": 21
    },
    {
     "cell_type": "code",
     "collapsed": false,
     "input": [
      "wavefunction_normalize(PHI_P, PHI_M, np.real(PSI)+np.imag(PSI))"
     ],
     "language": "python",
     "metadata": {},
     "outputs": [
      {
       "metadata": {},
       "output_type": "pyout",
       "prompt_number": 22,
       "text": [
        "array([[ 0.80336545,  0.7984937 ,  0.78316048, ...,  0.78316048,\n",
        "         0.7984937 ,  0.80336545],\n",
        "       [ 0.79108981,  0.78630104,  0.77122639, ...,  0.77122639,\n",
        "         0.78630104,  0.79108981],\n",
        "       [ 0.75538882,  0.75084063,  0.73651577, ...,  0.73651577,\n",
        "         0.75084063,  0.75538882],\n",
        "       ..., \n",
        "       [ 0.75538882,  0.75084063,  0.73651577, ...,  0.73651577,\n",
        "         0.75084063,  0.75538882],\n",
        "       [ 0.79108981,  0.78630104,  0.77122639, ...,  0.77122639,\n",
        "         0.78630104,  0.79108981],\n",
        "       [ 0.80336545,  0.7984937 ,  0.78316048, ...,  0.78316048,\n",
        "         0.7984937 ,  0.80336545]])"
       ]
      }
     ],
     "prompt_number": 22
    },
    {
     "cell_type": "code",
     "collapsed": false,
     "input": [
      "fig, axes = plt.subplots(1, 2, sharey=True)\n",
      "\n",
      "\n",
      "axes[0].contour(PHI_M/(2*np.pi), PHI_P/(2*np.pi), Z, cmap=cm.coolwarm)\n",
      "p1 = axes[0].contourf(PHI_M/2/np.pi, PHI_P/(2*np.pi),\\\n",
      "                 -wavefunction_normalize(PHI_P, \\\n",
      "                PHI_M, np.real(PSI_4)+np.imag(PSI_4)), 100, cmap=cm.RdBu, norm=MidPointNorm(0, vmax=0.8, vmin=-0.8))\n",
      "cb = fig.colorbar(p1, ax = axes[0])\n",
      "axes[1].contour(PHI_M/(2*np.pi), PHI_P/(2*np.pi), Z, cmap=cm.coolwarm)\n",
      "p2 = axes[1].contourf(PHI_M/2/np.pi, PHI_P/(2*np.pi),\\\n",
      "                 -wavefunction_normalize(PHI_P, \\\n",
      "                PHI_M, np.real(PSI_5)+np.imag(PSI_5)), 100, cmap=cm.RdBu, norm=MidPointNorm(0, vmax=0.8, vmin=-0.8))\n",
      "cb = fig.colorbar(p2)\n",
      "\n",
      "for ax in axes:\n",
      "    dict(ax.spines.items())[\"left\"].set_position(('outward', 10))\n",
      "    dict(ax.spines.items())[\"bottom\"].set_position(('outward', 10))\n",
      "    dict(ax.spines.items())[\"top\"].set_position(('outward', 10))\n",
      "    dict(ax.spines.items())[\"right\"].set_position(('outward', 10))\n",
      "    ax.grid()\n",
      "axes[0].set_xlabel(\"$\\\\theta/2\\pi$\", fontsize=25)\n",
      "axes[1].set_xlabel(\"$\\\\theta/2\\pi$\", fontsize=25)\n",
      "axes[0].set_ylabel(\"$\\phi/2\\pi$\", fontsize=25)\n",
      "axes[0].set_xticks(np.around(np.linspace(-.5,.5,3),1));\n",
      "axes[0].set_yticks(np.around(np.linspace(-.5,.5,3),1));\n",
      "axes[1].set_xticks(np.around(np.linspace(-.5,.5,3),1));\n",
      "plt.setp( axes[1].get_yticklabels(), visible=False)\n",
      "fig.set_size_inches(17, 7.5)"
     ],
     "language": "python",
     "metadata": {},
     "outputs": [
      {
       "ename": "NameError",
       "evalue": "name 'PSI_4' is not defined",
       "output_type": "pyerr",
       "traceback": [
        "\u001b[1;31m---------------------------------------------------------------------------\u001b[0m\n\u001b[1;31mNameError\u001b[0m                                 Traceback (most recent call last)",
        "\u001b[1;32m<ipython-input-24-0a45602cd2af>\u001b[0m in \u001b[0;36m<module>\u001b[1;34m()\u001b[0m\n\u001b[0;32m      3\u001b[0m \u001b[1;33m\u001b[0m\u001b[0m\n\u001b[0;32m      4\u001b[0m \u001b[0maxes\u001b[0m\u001b[1;33m[\u001b[0m\u001b[1;36m0\u001b[0m\u001b[1;33m]\u001b[0m\u001b[1;33m.\u001b[0m\u001b[0mcontour\u001b[0m\u001b[1;33m(\u001b[0m\u001b[0mPHI_M\u001b[0m\u001b[1;33m/\u001b[0m\u001b[1;33m(\u001b[0m\u001b[1;36m2\u001b[0m\u001b[1;33m*\u001b[0m\u001b[0mnp\u001b[0m\u001b[1;33m.\u001b[0m\u001b[0mpi\u001b[0m\u001b[1;33m)\u001b[0m\u001b[1;33m,\u001b[0m \u001b[0mPHI_P\u001b[0m\u001b[1;33m/\u001b[0m\u001b[1;33m(\u001b[0m\u001b[1;36m2\u001b[0m\u001b[1;33m*\u001b[0m\u001b[0mnp\u001b[0m\u001b[1;33m.\u001b[0m\u001b[0mpi\u001b[0m\u001b[1;33m)\u001b[0m\u001b[1;33m,\u001b[0m \u001b[0mZ\u001b[0m\u001b[1;33m,\u001b[0m \u001b[0mcmap\u001b[0m\u001b[1;33m=\u001b[0m\u001b[0mcm\u001b[0m\u001b[1;33m.\u001b[0m\u001b[0mcoolwarm\u001b[0m\u001b[1;33m)\u001b[0m\u001b[1;33m\u001b[0m\u001b[0m\n\u001b[1;32m----> 5\u001b[1;33m \u001b[0mp1\u001b[0m \u001b[1;33m=\u001b[0m \u001b[0maxes\u001b[0m\u001b[1;33m[\u001b[0m\u001b[1;36m0\u001b[0m\u001b[1;33m]\u001b[0m\u001b[1;33m.\u001b[0m\u001b[0mcontourf\u001b[0m\u001b[1;33m(\u001b[0m\u001b[0mPHI_M\u001b[0m\u001b[1;33m/\u001b[0m\u001b[1;36m2\u001b[0m\u001b[1;33m/\u001b[0m\u001b[0mnp\u001b[0m\u001b[1;33m.\u001b[0m\u001b[0mpi\u001b[0m\u001b[1;33m,\u001b[0m \u001b[0mPHI_P\u001b[0m\u001b[1;33m/\u001b[0m\u001b[1;33m(\u001b[0m\u001b[1;36m2\u001b[0m\u001b[1;33m*\u001b[0m\u001b[0mnp\u001b[0m\u001b[1;33m.\u001b[0m\u001b[0mpi\u001b[0m\u001b[1;33m)\u001b[0m\u001b[1;33m,\u001b[0m                 \u001b[1;33m-\u001b[0m\u001b[0mwavefunction_normalize\u001b[0m\u001b[1;33m(\u001b[0m\u001b[0mPHI_P\u001b[0m\u001b[1;33m,\u001b[0m                 \u001b[0mPHI_M\u001b[0m\u001b[1;33m,\u001b[0m \u001b[0mnp\u001b[0m\u001b[1;33m.\u001b[0m\u001b[0mreal\u001b[0m\u001b[1;33m(\u001b[0m\u001b[0mPSI_4\u001b[0m\u001b[1;33m)\u001b[0m\u001b[1;33m+\u001b[0m\u001b[0mnp\u001b[0m\u001b[1;33m.\u001b[0m\u001b[0mimag\u001b[0m\u001b[1;33m(\u001b[0m\u001b[0mPSI_4\u001b[0m\u001b[1;33m)\u001b[0m\u001b[1;33m)\u001b[0m\u001b[1;33m,\u001b[0m \u001b[1;36m100\u001b[0m\u001b[1;33m,\u001b[0m \u001b[0mcmap\u001b[0m\u001b[1;33m=\u001b[0m\u001b[0mcm\u001b[0m\u001b[1;33m.\u001b[0m\u001b[0mRdBu\u001b[0m\u001b[1;33m,\u001b[0m \u001b[0mnorm\u001b[0m\u001b[1;33m=\u001b[0m\u001b[0mMidPointNorm\u001b[0m\u001b[1;33m(\u001b[0m\u001b[1;36m0\u001b[0m\u001b[1;33m,\u001b[0m \u001b[0mvmax\u001b[0m\u001b[1;33m=\u001b[0m\u001b[1;36m0.8\u001b[0m\u001b[1;33m,\u001b[0m \u001b[0mvmin\u001b[0m\u001b[1;33m=\u001b[0m\u001b[1;33m-\u001b[0m\u001b[1;36m0.8\u001b[0m\u001b[1;33m)\u001b[0m\u001b[1;33m)\u001b[0m\u001b[1;33m\u001b[0m\u001b[0m\n\u001b[0m\u001b[0;32m      6\u001b[0m \u001b[0mcb\u001b[0m \u001b[1;33m=\u001b[0m \u001b[0mfig\u001b[0m\u001b[1;33m.\u001b[0m\u001b[0mcolorbar\u001b[0m\u001b[1;33m(\u001b[0m\u001b[0mp1\u001b[0m\u001b[1;33m,\u001b[0m \u001b[0max\u001b[0m \u001b[1;33m=\u001b[0m \u001b[0maxes\u001b[0m\u001b[1;33m[\u001b[0m\u001b[1;36m0\u001b[0m\u001b[1;33m]\u001b[0m\u001b[1;33m)\u001b[0m\u001b[1;33m\u001b[0m\u001b[0m\n\u001b[0;32m      7\u001b[0m \u001b[0maxes\u001b[0m\u001b[1;33m[\u001b[0m\u001b[1;36m1\u001b[0m\u001b[1;33m]\u001b[0m\u001b[1;33m.\u001b[0m\u001b[0mcontour\u001b[0m\u001b[1;33m(\u001b[0m\u001b[0mPHI_M\u001b[0m\u001b[1;33m/\u001b[0m\u001b[1;33m(\u001b[0m\u001b[1;36m2\u001b[0m\u001b[1;33m*\u001b[0m\u001b[0mnp\u001b[0m\u001b[1;33m.\u001b[0m\u001b[0mpi\u001b[0m\u001b[1;33m)\u001b[0m\u001b[1;33m,\u001b[0m \u001b[0mPHI_P\u001b[0m\u001b[1;33m/\u001b[0m\u001b[1;33m(\u001b[0m\u001b[1;36m2\u001b[0m\u001b[1;33m*\u001b[0m\u001b[0mnp\u001b[0m\u001b[1;33m.\u001b[0m\u001b[0mpi\u001b[0m\u001b[1;33m)\u001b[0m\u001b[1;33m,\u001b[0m \u001b[0mZ\u001b[0m\u001b[1;33m,\u001b[0m \u001b[0mcmap\u001b[0m\u001b[1;33m=\u001b[0m\u001b[0mcm\u001b[0m\u001b[1;33m.\u001b[0m\u001b[0mcoolwarm\u001b[0m\u001b[1;33m)\u001b[0m\u001b[1;33m\u001b[0m\u001b[0m\n",
        "\u001b[1;31mNameError\u001b[0m: name 'PSI_4' is not defined"
       ]
      },
      {
       "metadata": {},
       "output_type": "display_data",
       "png": "[encoded data removed]",
       "text": [
        "<matplotlib.figure.Figure at 0x7f92671e7e90>"
       ]
      }
     ],
     "prompt_number": 24
    },
    {
     "cell_type": "heading",
     "level": 3,
     "metadata": {},
     "source": [
      "Plot eigenenergies and the potential along $x_p=0$ line "
     ]
    },
    {
     "cell_type": "code",
     "collapsed": false,
     "input": [
      "vals[:20]*400 - vals[0]*400"
     ],
     "language": "python",
     "metadata": {},
     "outputs": [
      {
       "metadata": {},
       "output_type": "pyout",
       "prompt_number": 124,
       "text": [
        "array([  0.00000000e+00,   1.72256341e-05,   2.03591800e+00,\n",
        "         2.03594045e+00,   3.70785578e+01,   3.70786497e+01,\n",
        "         5.62099522e+01,   5.62103002e+01,   8.46636240e+01,\n",
        "         8.46657259e+01,   8.53479761e+01,   8.53502738e+01,\n",
        "         8.67868451e+01,   8.67882439e+01,   1.19480260e+02,\n",
        "         1.19486610e+02,   1.27077014e+02,   1.27088145e+02,\n",
        "         1.38791505e+02,   1.38821147e+02])"
       ]
      }
     ],
     "prompt_number": 124
    },
    {
     "cell_type": "code",
     "collapsed": false,
     "input": [
      "vals[:10]"
     ],
     "language": "python",
     "metadata": {},
     "outputs": [
      {
       "metadata": {},
       "output_type": "pyout",
       "prompt_number": 140,
       "text": [
        "array([ 1.55139665,  1.55139694,  1.5518241 ,  1.5518244 ,  1.68116466,\n",
        "        1.68116698,  1.69483363,  1.69483752,  1.74530639,  1.7453307 ])"
       ]
      }
     ],
     "prompt_number": 140
    },
    {
     "cell_type": "code",
     "collapsed": false,
     "input": [
      "vals[:10]"
     ],
     "language": "python",
     "metadata": {},
     "outputs": [
      {
       "metadata": {},
       "output_type": "pyout",
       "prompt_number": 29,
       "text": [
        "array([ 1.58911349 +3.42737658e-25j,  1.58911851 +3.09915422e-29j,\n",
        "        1.59077083 -1.15910108e-28j,  1.59077617 +8.09856156e-26j,\n",
        "        1.73475649 +4.03752670e-16j,  1.73478282 -9.77257080e-25j,\n",
        "        1.76797277 +5.59346619e-17j,  1.76803544 -2.08537604e-28j,\n",
        "        1.82365071 +1.39899487e-16j,  1.82398474 +2.86598696e-27j])"
       ]
      }
     ],
     "prompt_number": 29
    },
    {
     "cell_type": "code",
     "collapsed": false,
     "input": [
      "fig, ax = plt.subplots()\n",
      "\n",
      "U_x = np.real(U_flux_qubit(phi_p, 0, args))*400 - vals[0]*400\n",
      "\n",
      "for val in vals:\n",
      "    ax.plot(phi_m, np.real(val) * np.ones_like(phi_m)*400 - vals[0]*400, 'k')\n",
      "\n",
      "ax.plot(phi_m, U_x, label=\"potential\", lw='2')\n",
      "    \n",
      "ax.axis('tight')\n",
      "ax.set_ylim(min(vals[0], U_x.min()), U_x.max())\n",
      "ax.set_ylabel(r'$U(x_1, x_2=x_1)$', fontsize=16)\n",
      "ax.set_xlabel(r'$x_1$', fontsize=16);\n",
      "ax.set_ylim(0,40)\n",
      "# ax.set_xlim(-1,1)\n",
      "f"
     ],
     "language": "python",
     "metadata": {},
     "outputs": [
      {
       "metadata": {},
       "output_type": "pyout",
       "prompt_number": 213,
       "text": [
        "0.5"
       ]
      },
      {
       "metadata": {},
       "output_type": "display_data",
       "png": "[encoded data removed]",
       "text": [
        "<matplotlib.figure.Figure at 0x7f1dd347d350>"
       ]
      }
     ],
     "prompt_number": 213
    },
    {
     "cell_type": "heading",
     "level": 3,
     "metadata": {},
     "source": [
      "Energy levels as a function applied flux: Fig. 4(a) in Orlando et al."
     ]
    },
    {
     "cell_type": "code",
     "collapsed": false,
     "input": [
      "import matplotlib\n",
      "font = {'size'   : 20}\n",
      "matplotlib.rc('font', **font)"
     ],
     "language": "python",
     "metadata": {},
     "outputs": [],
     "prompt_number": 11
    },
    {
     "cell_type": "code",
     "collapsed": false,
     "input": [
      "f_vec = np.linspace(0.44, 0.56, 100)\n",
      "\n",
      "e_vals = np.zeros((len(vals), len(f_vec)))"
     ],
     "language": "python",
     "metadata": {},
     "outputs": [],
     "prompt_number": 35
    },
    {
     "cell_type": "code",
     "collapsed": false,
     "input": [
      "K = assemble_K(L1, L2, k11, k12, k22, Tx1, Tx2)\n",
      "import sys\n",
      "from IPython.display import clear_output\n",
      "for f_idx, f in enumerate(f_vec):\n",
      "    clear_output()\n",
      "    print(f_idx)\n",
      "    sys.stdout.flush()\n",
      "    args['f'] = f\n",
      "    u = assemble_u_flux_qubit(L1, L2, args)\n",
      "    V = assemble_V(L1, L2, u)\n",
      "    H = K + V\n",
      "    vals, vecs = solve_eigenproblem(H)\n",
      "    \n",
      "    e_vals[:, f_idx] = np.real(vals)"
     ],
     "language": "python",
     "metadata": {},
     "outputs": [
      {
       "output_type": "stream",
       "stream": "stdout",
       "text": [
        "99\n"
       ]
      }
     ],
     "prompt_number": 24
    },
    {
     "cell_type": "code",
     "collapsed": false,
     "input": [
      "f_vec2 = np.linspace(0.49, 0.51, 100)\n",
      "\n",
      "e_vals2 = np.zeros((len(vals), len(f_vec2)))"
     ],
     "language": "python",
     "metadata": {},
     "outputs": [],
     "prompt_number": 28
    },
    {
     "cell_type": "code",
     "collapsed": false,
     "input": [
      "K = assemble_K(L1, L2, k11, k12, k22, Tx1, Tx2)\n",
      "import sys\n",
      "from IPython.display import clear_output\n",
      "for f_idx, f in enumerate(f_vec2):\n",
      "    clear_output()\n",
      "    print(f_idx)\n",
      "    sys.stdout.flush()\n",
      "    args['f'] = f\n",
      "    u = assemble_u_flux_qubit(L1, L2, args)\n",
      "    V = assemble_V(L1, L2, u)\n",
      "    H = K + V\n",
      "    vals, vecs = solve_eigenproblem(H)\n",
      "    \n",
      "    e_vals2[:, f_idx] = np.real(vals)"
     ],
     "language": "python",
     "metadata": {},
     "outputs": [
      {
       "output_type": "stream",
       "stream": "stdout",
       "text": [
        "1\n"
       ]
      },
      {
       "ename": "KeyboardInterrupt",
       "evalue": "",
       "output_type": "pyerr",
       "traceback": [
        "\u001b[1;31m---------------------------------------------------------------------------\u001b[0m\n\u001b[1;31mKeyboardInterrupt\u001b[0m                         Traceback (most recent call last)",
        "\u001b[1;32m<ipython-input-29-146b5a00a45d>\u001b[0m in \u001b[0;36m<module>\u001b[1;34m()\u001b[0m\n\u001b[0;32m      8\u001b[0m     \u001b[0margs\u001b[0m\u001b[1;33m[\u001b[0m\u001b[1;34m'f'\u001b[0m\u001b[1;33m]\u001b[0m \u001b[1;33m=\u001b[0m \u001b[0mf\u001b[0m\u001b[1;33m\u001b[0m\u001b[0m\n\u001b[0;32m      9\u001b[0m     \u001b[0mu\u001b[0m \u001b[1;33m=\u001b[0m \u001b[0massemble_u_flux_qubit\u001b[0m\u001b[1;33m(\u001b[0m\u001b[0mL1\u001b[0m\u001b[1;33m,\u001b[0m \u001b[0mL2\u001b[0m\u001b[1;33m,\u001b[0m \u001b[0margs\u001b[0m\u001b[1;33m)\u001b[0m\u001b[1;33m\u001b[0m\u001b[0m\n\u001b[1;32m---> 10\u001b[1;33m     \u001b[0mV\u001b[0m \u001b[1;33m=\u001b[0m \u001b[0massemble_V\u001b[0m\u001b[1;33m(\u001b[0m\u001b[0mL1\u001b[0m\u001b[1;33m,\u001b[0m \u001b[0mL2\u001b[0m\u001b[1;33m,\u001b[0m \u001b[0mu\u001b[0m\u001b[1;33m)\u001b[0m\u001b[1;33m\u001b[0m\u001b[0m\n\u001b[0m\u001b[0;32m     11\u001b[0m     \u001b[0mH\u001b[0m \u001b[1;33m=\u001b[0m \u001b[0mK\u001b[0m \u001b[1;33m+\u001b[0m \u001b[0mV\u001b[0m\u001b[1;33m\u001b[0m\u001b[0m\n\u001b[0;32m     12\u001b[0m     \u001b[0mvals\u001b[0m\u001b[1;33m,\u001b[0m \u001b[0mvecs\u001b[0m \u001b[1;33m=\u001b[0m \u001b[0msolve_eigenproblem\u001b[0m\u001b[1;33m(\u001b[0m\u001b[0mH\u001b[0m\u001b[1;33m)\u001b[0m\u001b[1;33m\u001b[0m\u001b[0m\n",
        "\u001b[1;32m/usr/lib/python3.3/site-packages/wavefunction/wavefunction2d.py\u001b[0m in \u001b[0;36massemble_V\u001b[1;34m(L1, L2, u, sparse)\u001b[0m\n\u001b[0;32m    100\u001b[0m                     \u001b[0mk2\u001b[0m \u001b[1;33m=\u001b[0m \u001b[0mn2\u001b[0m \u001b[1;33m-\u001b[0m \u001b[0mm2\u001b[0m\u001b[1;33m\u001b[0m\u001b[0m\n\u001b[0;32m    101\u001b[0m \u001b[1;33m\u001b[0m\u001b[0m\n\u001b[1;32m--> 102\u001b[1;33m                     \u001b[1;32mif\u001b[0m \u001b[1;32mnot\u001b[0m \u001b[1;33m(\u001b[0m\u001b[0mk1\u001b[0m \u001b[1;33m<\u001b[0m \u001b[1;33m-\u001b[0m\u001b[0mL1\u001b[0m \u001b[1;32mor\u001b[0m \u001b[0mk1\u001b[0m \u001b[1;33m>\u001b[0m \u001b[0mL1\u001b[0m \u001b[1;32mor\u001b[0m \u001b[0mk2\u001b[0m \u001b[1;33m<\u001b[0m \u001b[1;33m-\u001b[0m\u001b[0mL2\u001b[0m \u001b[1;32mor\u001b[0m \u001b[0mk2\u001b[0m \u001b[1;33m>\u001b[0m \u001b[0mL2\u001b[0m\u001b[1;33m)\u001b[0m\u001b[1;33m:\u001b[0m\u001b[1;33m\u001b[0m\u001b[0m\n\u001b[0m\u001b[0;32m    103\u001b[0m                         \u001b[0mV\u001b[0m\u001b[1;33m[\u001b[0m\u001b[0mN\u001b[0m\u001b[1;33m,\u001b[0m\u001b[0mM\u001b[0m\u001b[1;33m]\u001b[0m \u001b[1;33m=\u001b[0m \u001b[0mu\u001b[0m\u001b[1;33m[\u001b[0m\u001b[0mindex_s2a\u001b[0m\u001b[1;33m(\u001b[0m\u001b[0mL1\u001b[0m\u001b[1;33m,\u001b[0m \u001b[0mk1\u001b[0m\u001b[1;33m)\u001b[0m\u001b[1;33m,\u001b[0m \u001b[0mindex_s2a\u001b[0m\u001b[1;33m(\u001b[0m\u001b[0mL2\u001b[0m\u001b[1;33m,\u001b[0m \u001b[0mk2\u001b[0m\u001b[1;33m)\u001b[0m\u001b[1;33m]\u001b[0m\u001b[1;33m\u001b[0m\u001b[0m\n\u001b[0;32m    104\u001b[0m \u001b[1;33m\u001b[0m\u001b[0m\n",
        "\u001b[1;31mKeyboardInterrupt\u001b[0m: "
       ]
      }
     ],
     "prompt_number": 29
    },
    {
     "cell_type": "code",
     "collapsed": false,
     "input": [
      "# f_vals = e_vals*400 - e_vals[0, 50]*400 #GHz\n",
      "f_vals2 = e_vals2*400 - e_vals2[0, 50]*400 #GHz\n",
      "fig, axes = plt.subplots(1, 2, figsize=(17,7))\n",
      "ax = axes[0]\n",
      "toggle=True\n",
      "for n in range(24):\n",
      "    if toggle==True:\n",
      "        ax.plot(f_vec, f_vals[n, :], 'black')\n",
      "        toggle=False\n",
      "    else:\n",
      "        ax.plot(f_vec, f_vals[n, :], \"black\")\n",
      "        toggle=True\n",
      "\n",
      "dict(ax.spines.items())[\"left\"].set_position(('outward', 10))\n",
      "dict(ax.spines.items())[\"bottom\"].set_position(('outward', 10))\n",
      "dict(ax.spines.items())[\"top\"].set_position(('outward', 10))\n",
      "dict(ax.spines.items())[\"right\"].set_position(('outward', 10))\n",
      "\n",
      "\n",
      "ax.set_ylim(-50, 150)\n",
      "ax.set_xlim(0.44,0.56)\n",
      "ax.set_ylabel(\"Energy, GHz\")\n",
      "ax.set_xlabel(r'$\\Phi/\\Phi_0$');\n",
      "ax.grid()\n",
      "\n",
      "toggle=True\n",
      "ax2 = axes[1]\n",
      "for n in range(6):\n",
      "    if toggle==True:\n",
      "        ax2.plot(f_vec2, f_vals2[n, :], 'black')\n",
      "        toggle=False\n",
      "    else:\n",
      "        ax2.plot(f_vec2, f_vals2[n, :], \"black\")\n",
      "        toggle=True\n",
      "\n",
      "\n",
      "dict(ax2.spines.items())[\"left\"].set_position(('outward', 10))\n",
      "dict(ax2.spines.items())[\"bottom\"].set_position(('outward', 10))\n",
      "dict(ax2.spines.items())[\"top\"].set_position(('outward', 10))\n",
      "dict(ax2.spines.items())[\"right\"].set_position(('outward', 10))\n",
      "ax2.grid()\n",
      "ax2.set_xlabel(r'$\\Phi/\\Phi_0$');"
     ],
     "language": "python",
     "metadata": {},
     "outputs": [
      {
       "metadata": {},
       "output_type": "display_data",
       "png": "[encoded data removed]",
       "text": [
        "<matplotlib.figure.Figure at 0x7f393944abd0>"
       ]
      }
     ],
     "prompt_number": 38
    },
    {
     "cell_type": "code",
     "collapsed": false,
     "input": [
      "varepsilon = (vals[3]-vals[0])*400"
     ],
     "language": "python",
     "metadata": {},
     "outputs": [],
     "prompt_number": 83
    },
    {
     "cell_type": "code",
     "collapsed": false,
     "input": [
      "Egs = []\n",
      "Ees = []\n",
      "I12 = wavefunction.wavefunction2d.inner_product(PHI_P, PHI_M, psi1, I2*psi0)*32.5\n",
      "for f in f_vec2-0.5:\n",
      "    delta = 4*np.pi*alpha*f*400*I12\n",
      "#     print(delta)\n",
      "    Egs.append(1/2*np.sqrt(varepsilon**2+delta**2)+1/2*varepsilon)\n",
      "    Ees.append(-1/2*np.sqrt(varepsilon**2+delta**2)+1/2*varepsilon)"
     ],
     "language": "python",
     "metadata": {},
     "outputs": [],
     "prompt_number": 206
    },
    {
     "cell_type": "code",
     "collapsed": false,
     "input": [
      "plt.plot(f_vec2, Egs, f_vec2, Ees, f_vec2, f_vals2[3,:],  f_vec2, f_vals2[0,:])\n",
      "# plt.xlim(0.48, 0.52)\n",
      "# plt.ylim(-50,50)\n",
      "plt.grid()"
     ],
     "language": "python",
     "metadata": {},
     "outputs": [
      {
       "metadata": {},
       "output_type": "display_data",
       "png": "[encoded data removed]",
       "text": [
        "<matplotlib.figure.Figure at 0x7f3938ed2710>"
       ]
      }
     ],
     "prompt_number": 302
    },
    {
     "cell_type": "code",
     "collapsed": false,
     "input": [
      "with open(\"levels.pkl\", \"rb\") as f:\n",
      "    f_vals = pickle.load(f)"
     ],
     "language": "python",
     "metadata": {},
     "outputs": [],
     "prompt_number": 25
    },
    {
     "cell_type": "code",
     "collapsed": false,
     "input": [
      "with open(\"levels_closeup.pkl\", \"rb\") as f:\n",
      "    f_vals2 = pickle.load(f)"
     ],
     "language": "python",
     "metadata": {},
     "outputs": [
      {
       "ename": "EOFError",
       "evalue": "",
       "output_type": "pyerr",
       "traceback": [
        "\u001b[1;31m---------------------------------------------------------------------------\u001b[0m\n\u001b[1;31mEOFError\u001b[0m                                  Traceback (most recent call last)",
        "\u001b[1;32m<ipython-input-26-bfc8740f1ddc>\u001b[0m in \u001b[0;36m<module>\u001b[1;34m()\u001b[0m\n\u001b[0;32m      1\u001b[0m \u001b[1;32mwith\u001b[0m \u001b[0mopen\u001b[0m\u001b[1;33m(\u001b[0m\u001b[1;34m\"levels_closeup.pkl\"\u001b[0m\u001b[1;33m,\u001b[0m \u001b[1;34m\"rb\"\u001b[0m\u001b[1;33m)\u001b[0m \u001b[1;32mas\u001b[0m \u001b[0mf\u001b[0m\u001b[1;33m:\u001b[0m\u001b[1;33m\u001b[0m\u001b[0m\n\u001b[1;32m----> 2\u001b[1;33m     \u001b[0mf_vals2\u001b[0m \u001b[1;33m=\u001b[0m \u001b[0mpickle\u001b[0m\u001b[1;33m.\u001b[0m\u001b[0mload\u001b[0m\u001b[1;33m(\u001b[0m\u001b[0mf\u001b[0m\u001b[1;33m)\u001b[0m\u001b[1;33m\u001b[0m\u001b[0m\n\u001b[0m",
        "\u001b[1;31mEOFError\u001b[0m: "
       ]
      }
     ],
     "prompt_number": 26
    },
    {
     "cell_type": "code",
     "collapsed": false,
     "input": [
      "with open(\"levels_closeup.pkl\", \"wb\") as f:\n",
      "    pickle.dump(f_vals2, f)"
     ],
     "language": "python",
     "metadata": {},
     "outputs": [],
     "prompt_number": 44
    },
    {
     "cell_type": "code",
     "collapsed": false,
     "input": [
      "with open(\"levels.pkl\", \"wb\") as f:\n",
      "    pickle.dump(f_vals, f)"
     ],
     "language": "python",
     "metadata": {},
     "outputs": [],
     "prompt_number": 43
    },
    {
     "cell_type": "code",
     "collapsed": false,
     "input": [
      "e_vals2[:,50]*400-e_vals2[0,50]*400"
     ],
     "language": "python",
     "metadata": {},
     "outputs": [
      {
       "metadata": {},
       "output_type": "pyout",
       "prompt_number": 222,
       "text": [
        "array([  0.00000000e+00,   1.70039935e-05,   2.05935526e+00, ...,\n",
        "         4.60149002e+03,   4.60149002e+03,   4.60149002e+03])"
       ]
      }
     ],
     "prompt_number": 222
    },
    {
     "cell_type": "heading",
     "level": 3,
     "metadata": {},
     "source": [
      "Circulating currents in ground and excited state at $f=0.49$"
     ]
    },
    {
     "cell_type": "code",
     "collapsed": false,
     "input": [
      "# current operator for junction 1\n",
      "I1 = np.sin(PHI_P + PHI_M)\n",
      "\n",
      "# current operator for junction 2\n",
      "I2 = np.sin(np.pi - PHI_P)"
     ],
     "language": "python",
     "metadata": {},
     "outputs": [],
     "prompt_number": 66
    },
    {
     "cell_type": "code",
     "collapsed": false,
     "input": [
      "# ground and excited state wave functions\n",
      "psi0 = np.real(wavefunction_normalize(PHI_P, PHI_M, evalute_fourier_series(PHI_P, PHI_M, L1, L2, \n",
      "                                                                   convert_v2m(L1, L2, vecs[0]))  ))\n",
      "psi1 = np.imag(wavefunction_normalize(PHI_P, PHI_M, evalute_fourier_series(PHI_P, PHI_M, L1, L2, \n",
      "                                                                   convert_v2m(L1, L2, vecs[3]))))"
     ],
     "language": "python",
     "metadata": {},
     "outputs": [],
     "prompt_number": 67
    },
    {
     "cell_type": "code",
     "collapsed": false,
     "input": [
      "PSI_2 = evalute_fourier_series(PHI_P, PHI_M, L1, L2, convert_v2m(L1, L2, vecs[4]))\n",
      "psi2 = wavefunction_normalize(PHI_P, PHI_M, np.real(PSI_2)+np.imag(PSI_2))\n",
      "PSI_3 = evalute_fourier_series(PHI_P, PHI_M, L1, L2, convert_v2m(L1, L2, vecs[7]))\n",
      "psi3 = wavefunction_normalize(PHI_P, PHI_M, np.real(PSI_3)+np.imag(PSI_3))"
     ],
     "language": "python",
     "metadata": {},
     "outputs": [],
     "prompt_number": 136
    },
    {
     "cell_type": "code",
     "collapsed": false,
     "input": [
      "i=0\n",
      "psis = []\n",
      "while i<50:\n",
      "    print(i, end=\"\")\n",
      "    sys.stdout.flush()\n",
      "    if i%2==0:\n",
      "        PSI_ = evalute_fourier_series(PHI_P, PHI_M, L1, L2, convert_v2m(L1, L2, vecs[i]))\n",
      "        psis.append(wavefunction_normalize(PHI_P, PHI_M, np.real(PSI_)+1j*np.imag(PSI_)))\n",
      "        i+=3\n",
      "    else:\n",
      "        PSI_ = evalute_fourier_series(PHI_P, PHI_M, L1, L2, convert_v2m(L1, L2, vecs[i]))\n",
      "        psis.append(wavefunction_normalize(PHI_P, PHI_M, np.real(PSI_)+np.imag(PSI_)))\n",
      "        i+=1\n",
      "    print(\"\\r\", end=\"\")"
     ],
     "language": "python",
     "metadata": {},
     "outputs": [
      {
       "output_type": "stream",
       "stream": "stdout",
       "text": [
        "0"
       ]
      },
      {
       "output_type": "stream",
       "stream": "stdout",
       "text": [
        "\r",
        "3"
       ]
      },
      {
       "output_type": "stream",
       "stream": "stdout",
       "text": [
        "\r",
        "4"
       ]
      },
      {
       "output_type": "stream",
       "stream": "stdout",
       "text": [
        "\r",
        "7"
       ]
      },
      {
       "output_type": "stream",
       "stream": "stdout",
       "text": [
        "\r",
        "8"
       ]
      },
      {
       "output_type": "stream",
       "stream": "stdout",
       "text": [
        "\r",
        "11"
       ]
      },
      {
       "output_type": "stream",
       "stream": "stdout",
       "text": [
        "\r",
        "12"
       ]
      },
      {
       "output_type": "stream",
       "stream": "stdout",
       "text": [
        "\r",
        "15"
       ]
      },
      {
       "output_type": "stream",
       "stream": "stdout",
       "text": [
        "\r",
        "16"
       ]
      },
      {
       "output_type": "stream",
       "stream": "stdout",
       "text": [
        "\r",
        "19"
       ]
      },
      {
       "output_type": "stream",
       "stream": "stdout",
       "text": [
        "\r",
        "20"
       ]
      },
      {
       "output_type": "stream",
       "stream": "stdout",
       "text": [
        "\r",
        "23"
       ]
      },
      {
       "output_type": "stream",
       "stream": "stdout",
       "text": [
        "\r",
        "24"
       ]
      },
      {
       "output_type": "stream",
       "stream": "stdout",
       "text": [
        "\r",
        "27"
       ]
      },
      {
       "output_type": "stream",
       "stream": "stdout",
       "text": [
        "\r",
        "28"
       ]
      },
      {
       "output_type": "stream",
       "stream": "stdout",
       "text": [
        "\r",
        "31"
       ]
      },
      {
       "output_type": "stream",
       "stream": "stdout",
       "text": [
        "\r",
        "32"
       ]
      },
      {
       "output_type": "stream",
       "stream": "stdout",
       "text": [
        "\r",
        "35"
       ]
      },
      {
       "output_type": "stream",
       "stream": "stdout",
       "text": [
        "\r",
        "36"
       ]
      },
      {
       "output_type": "stream",
       "stream": "stdout",
       "text": [
        "\r",
        "39"
       ]
      },
      {
       "output_type": "stream",
       "stream": "stdout",
       "text": [
        "\r",
        "40"
       ]
      },
      {
       "output_type": "stream",
       "stream": "stdout",
       "text": [
        "\r",
        "43"
       ]
      },
      {
       "output_type": "stream",
       "stream": "stdout",
       "text": [
        "\r",
        "44"
       ]
      },
      {
       "output_type": "stream",
       "stream": "stdout",
       "text": [
        "\r",
        "47"
       ]
      },
      {
       "output_type": "stream",
       "stream": "stdout",
       "text": [
        "\r",
        "48"
       ]
      },
      {
       "output_type": "stream",
       "stream": "stdout",
       "text": [
        "\r"
       ]
      }
     ],
     "prompt_number": 238
    },
    {
     "cell_type": "code",
     "collapsed": false,
     "input": [
      "V_m = np.zeros((len(psis), len(psis)))\n",
      "for idx, psi_ in enumerate(psis):\n",
      "    for i in range(idx, len(psis)):\n",
      "        V_m[idx, i]= wavefunction.wavefunction2d.inner_product(PHI_P, PHI_M, psi_, I2*psis[i])"
     ],
     "language": "python",
     "metadata": {},
     "outputs": [],
     "prompt_number": 241
    },
    {
     "cell_type": "code",
     "collapsed": false,
     "input": [
      "wavefunction.wavefunction2d.inner_product(PHI_P, PHI_M, psis[-1], I2*psis[-4])"
     ],
     "language": "python",
     "metadata": {},
     "outputs": [
      {
       "metadata": {},
       "output_type": "pyout",
       "prompt_number": 301,
       "text": [
        "0.35103528554127517"
       ]
      }
     ],
     "prompt_number": 301
    },
    {
     "cell_type": "code",
     "collapsed": false,
     "input": [
      "expectation_value(PHI_P, PHI_M, I1, psi0)  # I1/Ic"
     ],
     "language": "python",
     "metadata": {},
     "outputs": [
      {
       "metadata": {},
       "output_type": "pyout",
       "prompt_number": 42,
       "text": [
        "-0.10884895830456305"
       ]
      }
     ],
     "prompt_number": 42
    },
    {
     "cell_type": "code",
     "collapsed": false,
     "input": [
      "expectation_value(PHI_P, PHI_M, I2, psi0).real  # I2/Ic"
     ],
     "language": "python",
     "metadata": {},
     "outputs": [
      {
       "metadata": {},
       "output_type": "pyout",
       "prompt_number": 59,
       "text": [
        "-4.2930980789837797e-17"
       ]
      }
     ],
     "prompt_number": 59
    },
    {
     "cell_type": "markdown",
     "metadata": {},
     "source": [
      "These circulating currents are given as $I_{1,2} = \\pm0.70 I_c$ in Orlando et al."
     ]
    },
    {
     "cell_type": "code",
     "collapsed": false,
     "input": [],
     "language": "python",
     "metadata": {},
     "outputs": []
    },
    {
     "cell_type": "heading",
     "level": 2,
     "metadata": {},
     "source": [
      "Software versions"
     ]
    },
    {
     "cell_type": "code",
     "collapsed": false,
     "input": [
      "from matplotlib.colors import Normalize\n",
      "class MidPointNorm(Normalize):    \n",
      "    def __init__(self, midpoint=0, vmin=None, vmax=None, clip=False):\n",
      "        Normalize.__init__(self,vmin, vmax, clip)\n",
      "        self.midpoint = midpoint\n",
      "\n",
      "    def __call__(self, value, clip=None):\n",
      "        if clip is None:\n",
      "            clip = self.clip\n",
      "\n",
      "        result, is_scalar = self.process_value(value)\n",
      "\n",
      "        self.autoscale_None(result)\n",
      "        vmin, vmax, midpoint = self.vmin, self.vmax, self.midpoint\n",
      "\n",
      "        if not (vmin < midpoint < vmax):\n",
      "            raise ValueError(\"midpoint must be between maxvalue and minvalue.\")       \n",
      "        elif vmin == vmax:\n",
      "            result.fill(0) # Or should it be all masked? Or 0.5?\n",
      "        elif vmin > vmax:\n",
      "            raise ValueError(\"maxvalue must be bigger than minvalue\")\n",
      "        else:\n",
      "            vmin = float(vmin)\n",
      "            vmax = float(vmax)\n",
      "            if clip:\n",
      "                mask = ma.getmask(result)\n",
      "                result = ma.array(np.clip(result.filled(vmax), vmin, vmax),\n",
      "                                  mask=mask)\n",
      "\n",
      "            # ma division is very slow; we can take a shortcut\n",
      "            resdat = result.data\n",
      "\n",
      "            #First scale to -1 to 1 range, than to from 0 to 1.\n",
      "            resdat -= midpoint            \n",
      "            resdat[resdat>0] /= abs(vmax - midpoint)            \n",
      "            resdat[resdat<0] /= abs(vmin - midpoint)\n",
      "\n",
      "            resdat /= 2.\n",
      "            resdat += 0.5\n",
      "            result = np.ma.array(resdat, mask=result.mask, copy=False)                \n",
      "\n",
      "        if is_scalar:\n",
      "            result = result[0]            \n",
      "        return result\n",
      "\n",
      "    def inverse(self, value):\n",
      "        if not self.scaled():\n",
      "            raise ValueError(\"Not invertible until scaled\")\n",
      "        vmin, vmax, midpoint = self.vmin, self.vmax, self.midpoint\n",
      "\n",
      "        if cbook.iterable(value):\n",
      "            val = ma.asarray(value)\n",
      "            val = 2 * (val-0.5)  \n",
      "            val[val>0]  *= abs(vmax - midpoint)\n",
      "            val[val<0] *= abs(vmin - midpoint)\n",
      "            val += midpoint\n",
      "            return val\n",
      "        else:\n",
      "            val = 2 * (val - 0.5)\n",
      "            if val < 0: \n",
      "                return  val*abs(vmin-midpoint) + midpoint\n",
      "            else:\n",
      "                return  val*abs(vmax-midpoint) + midpoint"
     ],
     "language": "python",
     "metadata": {},
     "outputs": [],
     "prompt_number": 44
    },
    {
     "cell_type": "code",
     "collapsed": false,
     "input": [
      "def mp(a):\n",
      "    toggle1 = 0\n",
      "    for i in range(0, a.shape[0]):\n",
      "        if a.shape[0] > 24:\n",
      "            if i>10 and i < (a.shape[0]-10):\n",
      "                if toggle1 == 0:\n",
      "                    for j in range(0, 35):\n",
      "                        print(\"...\", end = \"\")\n",
      "                    print(\"\")\n",
      "                    toggle1=1\n",
      "                continue\n",
      "        toggle = 0\n",
      "        for j in range(0, a.shape[1]):\n",
      "            if a.shape[1] > 24:\n",
      "                if j>8 and j< (a.shape[1]-9):\n",
      "                    if toggle == 0: print(\" ... \", end=\"\")\n",
      "                    toggle = 1\n",
      "                    continue\n",
      "            if (i==j):\n",
      "                print('\\x1b[31m', end=\"\")\n",
      "            print(\"%5.1f\"%round(a[i,j],1), end=\" \")\n",
      "            print('\\x1b[0m', end=\"\")\n",
      "        print(\"\")"
     ],
     "language": "python",
     "metadata": {},
     "outputs": [],
     "prompt_number": 299
    },
    {
     "cell_type": "code",
     "collapsed": false,
     "input": [
      "print('\\033[0m'+\"dfd\")"
     ],
     "language": "python",
     "metadata": {},
     "outputs": [
      {
       "output_type": "stream",
       "stream": "stdout",
       "text": [
        "\u001b[0mdfd\n"
       ]
      }
     ],
     "prompt_number": 279
    },
    {
     "cell_type": "code",
     "collapsed": false,
     "input": [
      "print(\"\\x1b[35m\\\"red\\\"\\x1b[0m\")"
     ],
     "language": "python",
     "metadata": {},
     "outputs": [
      {
       "output_type": "stream",
       "stream": "stdout",
       "text": [
        "\u001b[35m\"red\"\u001b[0m\n"
       ]
      }
     ],
     "prompt_number": 296
    },
    {
     "cell_type": "code",
     "collapsed": false,
     "input": [],
     "language": "python",
     "metadata": {},
     "outputs": []
    }
   ],
   "metadata": {}
  }
 ]
}