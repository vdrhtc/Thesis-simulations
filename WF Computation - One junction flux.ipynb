{
 "metadata": {
  "name": "",
  "signature": "sha256:614760d48781b3477a14743920b892be7cfa7adcd27a09fb6f1dca3225a6d961"
 },
 "nbformat": 3,
 "nbformat_minor": 0,
 "worksheets": [
  {
   "cells": [
    {
     "cell_type": "heading",
     "level": 1,
     "metadata": {},
     "source": [
      "One-junction flux qubit"
     ]
    },
    {
     "cell_type": "code",
     "collapsed": false,
     "input": [
      "from scipy import *"
     ],
     "language": "python",
     "metadata": {},
     "outputs": [],
     "prompt_number": 13
    },
    {
     "cell_type": "code",
     "collapsed": false,
     "input": [
      "from scipy.constants import *"
     ],
     "language": "python",
     "metadata": {},
     "outputs": [],
     "prompt_number": 14
    },
    {
     "cell_type": "code",
     "collapsed": false,
     "input": [
      "%matplotlib inline\n",
      "from matplotlib import pyplot as plt"
     ],
     "language": "python",
     "metadata": {},
     "outputs": [],
     "prompt_number": 15
    },
    {
     "cell_type": "code",
     "collapsed": false,
     "input": [
      "from wavefunction import *\n",
      "from wavefunction.wavefunction1d import *"
     ],
     "language": "python",
     "metadata": {},
     "outputs": [],
     "prompt_number": 16
    },
    {
     "cell_type": "code",
     "collapsed": false,
     "input": [
      "E_C = 1/10\n",
      "E_J = 3\n",
      "beta=1.2\n",
      "phi_e = .51*2*pi"
     ],
     "language": "python",
     "metadata": {},
     "outputs": [],
     "prompt_number": 60
    },
    {
     "cell_type": "code",
     "collapsed": false,
     "input": [
      "def U_flux_biased(phi, args):\n",
      "    return -E_J*(cos(phi))+(phi - phi_e)**2/2/beta"
     ],
     "language": "python",
     "metadata": {},
     "outputs": [],
     "prompt_number": 61
    },
    {
     "cell_type": "code",
     "collapsed": false,
     "input": [
      "phi_min, phi_max = -0.5*pi, 2.5*pi\n",
      "N = 500"
     ],
     "language": "python",
     "metadata": {},
     "outputs": [],
     "prompt_number": 62
    },
    {
     "cell_type": "code",
     "collapsed": false,
     "input": [
      "phi = linspace(phi_min, phi_max, N)"
     ],
     "language": "python",
     "metadata": {},
     "outputs": [],
     "prompt_number": 63
    },
    {
     "cell_type": "code",
     "collapsed": false,
     "input": [
      "beta = 0.5\n",
      "plt.plot(phi, U_flux_biased(phi, None))"
     ],
     "language": "python",
     "metadata": {},
     "outputs": [
      {
       "metadata": {},
       "output_type": "pyout",
       "prompt_number": 64,
       "text": [
        "[<matplotlib.lines.Line2D at 0x7f8b1a83a590>]"
       ]
      },
      {
       "metadata": {},
       "output_type": "display_data",
       "png": "[encoded data removed]",
       "text": [
        "<matplotlib.figure.Figure at 0x7f8b1a768310>"
       ]
      }
     ],
     "prompt_number": 64
    },
    {
     "cell_type": "code",
     "collapsed": false,
     "input": [
      "u = assemble_u_potential(N, U_flux_biased, phi, None)\n",
      "K = assemble_K(N, -E_C, phi_min, phi_max)\n",
      "V = assemble_V(N, u, phi_min, phi_min)\n",
      "H = K + V\n",
      "evals, evecs = solve_eigenproblem(H)\n",
      "evecs_n = []\n",
      "for evec in evecs:\n",
      "    evecs_n.append(wavefunction_normalize(phi, evec))"
     ],
     "language": "python",
     "metadata": {},
     "outputs": [],
     "prompt_number": 65
    },
    {
     "cell_type": "code",
     "collapsed": false,
     "input": [
      "plt.plot(phi, U_flux_biased(phi, None))\n",
      "i=0\n",
      "for val in evals[:2]:\n",
      "    plt.plot(phi, val*ones_like(phi), 'black')\n",
      "    plt.plot(phi, (val + evecs_n[i]))\n",
      "    i+=1\n",
      "plt.ylim(2, 5)"
     ],
     "language": "python",
     "metadata": {},
     "outputs": [
      {
       "latex": [
        "$$\\begin{pmatrix}2, & 5\\end{pmatrix}$$"
       ],
       "metadata": {},
       "output_type": "pyout",
       "png": "[encoded data removed]",
       "prompt_number": 66,
       "text": [
        "(2, 5)"
       ]
      },
      {
       "metadata": {},
       "output_type": "display_data",
       "png": "[encoded data removed]",
       "text": [
        "<matplotlib.figure.Figure at 0x7f8b1a720750>"
       ]
      }
     ],
     "prompt_number": 66
    },
    {
     "cell_type": "code",
     "collapsed": false,
     "input": [
      "expectation_value(phi, sin(phi), evecs_n[0])"
     ],
     "language": "python",
     "metadata": {},
     "outputs": [
      {
       "metadata": {},
       "output_type": "pyout",
       "prompt_number": 68,
       "text": [
        "(-0.89438491267032449+0j)"
       ]
      }
     ],
     "prompt_number": 68
    },
    {
     "cell_type": "code",
     "collapsed": false,
     "input": [
      "inner_product(phi, evecs_n[0], sin(phi)*evecs_n[0])"
     ],
     "language": "python",
     "metadata": {},
     "outputs": [
      {
       "metadata": {},
       "output_type": "pyout",
       "prompt_number": 39,
       "text": [
        "(5.5327888832773439e-11+0j)"
       ]
      }
     ],
     "prompt_number": 39
    },
    {
     "cell_type": "code",
     "collapsed": false,
     "input": [
      "from sympy import *\n",
      "import sympy\n",
      "init_printing()"
     ],
     "language": "python",
     "metadata": {},
     "outputs": [],
     "prompt_number": 1
    },
    {
     "cell_type": "code",
     "collapsed": false,
     "input": [
      "var(\"varepsilon delta Delta sigma_x sigma_z phi_1 phi_2 Phi Phi_0\")"
     ],
     "language": "python",
     "metadata": {},
     "outputs": [
      {
       "latex": [
        "$$\\begin{pmatrix}\\varepsilon, & \\delta, & \\Delta, & \\sigma_{x}, & \\sigma_{z}, & \\phi_{1}, & \\phi_{2}, & \\Phi, & \\Phi_{0}\\end{pmatrix}$$"
       ],
       "metadata": {},
       "output_type": "pyout",
       "png": "[encoded data removed]",
       "prompt_number": 2,
       "text": [
        "(varepsilon, \u03b4, \u0394, \u03c3\u2093, \u03c3_z, \u03c6\u2081, \u03c6\u2082, \u03a6, \u03a6\u2080)"
       ]
      }
     ],
     "prompt_number": 2
    },
    {
     "cell_type": "code",
     "collapsed": false,
     "input": [
      "sigma_x = sympy.physics.msigma(1)\n",
      "sigma_z = sympy.physics.msigma(3)\n",
      "i = sympy.eye(2)"
     ],
     "language": "python",
     "metadata": {},
     "outputs": [],
     "prompt_number": 3
    },
    {
     "cell_type": "code",
     "collapsed": false,
     "input": [
      "H = varepsilon/2*sigma_z + delta/2*sigma_x #+ delta*sigma_z"
     ],
     "language": "python",
     "metadata": {},
     "outputs": [],
     "prompt_number": 4
    },
    {
     "cell_type": "code",
     "collapsed": false,
     "input": [
      "H"
     ],
     "language": "python",
     "metadata": {},
     "outputs": [
      {
       "latex": [
        "$$\\left[\\begin{matrix}\\frac{\\varepsilon}{2} & \\frac{\\delta}{2}\\\\\\frac{\\delta}{2} & - \\frac{\\varepsilon}{2}\\end{matrix}\\right]$$"
       ],
       "metadata": {},
       "output_type": "pyout",
       "png": "[encoded data removed]",
       "prompt_number": 5,
       "text": [
        "\u23a1varepsilon       \u03b4      \u23a4\n",
        "\u23a2\u2500\u2500\u2500\u2500\u2500\u2500\u2500\u2500\u2500\u2500       \u2500      \u23a5\n",
        "\u23a2    2            2      \u23a5\n",
        "\u23a2                        \u23a5\n",
        "\u23a2    \u03b4       -varepsilon \u23a5\n",
        "\u23a2    \u2500       \u2500\u2500\u2500\u2500\u2500\u2500\u2500\u2500\u2500\u2500\u2500\u2500\u23a5\n",
        "\u23a3    2            2      \u23a6"
       ]
      }
     ],
     "prompt_number": 5
    },
    {
     "cell_type": "code",
     "collapsed": false,
     "input": [
      "H.eigenvals()"
     ],
     "language": "python",
     "metadata": {},
     "outputs": [
      {
       "latex": [
        "$$\\begin{Bmatrix}- \\frac{1}{2} \\sqrt{\\delta^{2} + \\varepsilon^{2}} : 1, & \\frac{1}{2} \\sqrt{\\delta^{2} + \\varepsilon^{2}} : 1\\end{Bmatrix}$$"
       ],
       "metadata": {},
       "output_type": "pyout",
       "png": "[encoded data removed]",
       "prompt_number": 6,
       "text": [
        "\u23a7    __________________         __________________   \u23ab\n",
        "\u23aa   \u2571  2             2         \u2571  2             2    \u23aa\n",
        "\u23a8-\u2572\u2571  \u03b4  + varepsilon        \u2572\u2571  \u03b4  + varepsilon     \u23ac\n",
        "\u23aa\u2500\u2500\u2500\u2500\u2500\u2500\u2500\u2500\u2500\u2500\u2500\u2500\u2500\u2500\u2500\u2500\u2500\u2500\u2500\u2500\u2500\u2500\u2500: 1, \u2500\u2500\u2500\u2500\u2500\u2500\u2500\u2500\u2500\u2500\u2500\u2500\u2500\u2500\u2500\u2500\u2500\u2500\u2500\u2500\u2500: 1\u23aa\n",
        "\u23a9           2                          2             \u23ad"
       ]
      }
     ],
     "prompt_number": 6
    },
    {
     "cell_type": "code",
     "collapsed": false,
     "input": [
      "H = sqrt(varepsilon**2+Delta**2)/2*sigma_z+ sigma_x*delta"
     ],
     "language": "python",
     "metadata": {},
     "outputs": [],
     "prompt_number": 42
    },
    {
     "cell_type": "code",
     "collapsed": false,
     "input": [
      "H"
     ],
     "language": "python",
     "metadata": {},
     "outputs": [
      {
       "latex": [
        "$$\\left[\\begin{matrix}\\frac{1}{2} \\sqrt{\\Delta^{2} + \\varepsilon^{2}} & \\delta\\\\\\delta & - \\frac{1}{2} \\sqrt{\\Delta^{2} + \\varepsilon^{2}}\\end{matrix}\\right]$$"
       ],
       "metadata": {},
       "output_type": "pyout",
       "png": "[encoded data removed]",
       "prompt_number": 43,
       "text": [
        "\u23a1   __________________                         \u23a4\n",
        "\u23a2  \u2571  2             2                          \u23a5\n",
        "\u23a2\u2572\u2571  \u0394  + varepsilon                           \u23a5\n",
        "\u23a2\u2500\u2500\u2500\u2500\u2500\u2500\u2500\u2500\u2500\u2500\u2500\u2500\u2500\u2500\u2500\u2500\u2500\u2500\u2500\u2500\u2500             \u03b4           \u23a5\n",
        "\u23a2          2                                   \u23a5\n",
        "\u23a2                                              \u23a5\n",
        "\u23a2                           __________________ \u23a5\n",
        "\u23a2                          \u2571  2             2  \u23a5\n",
        "\u23a2                       -\u2572\u2571  \u0394  + varepsilon   \u23a5\n",
        "\u23a2          \u03b4            \u2500\u2500\u2500\u2500\u2500\u2500\u2500\u2500\u2500\u2500\u2500\u2500\u2500\u2500\u2500\u2500\u2500\u2500\u2500\u2500\u2500\u2500\u2500\u23a5\n",
        "\u23a3                                  2           \u23a6"
       ]
      }
     ],
     "prompt_number": 43
    },
    {
     "cell_type": "code",
     "collapsed": false,
     "input": [
      "H.eigenvals()"
     ],
     "language": "python",
     "metadata": {},
     "outputs": [
      {
       "latex": [
        "$$\\begin{Bmatrix}- \\frac{1}{2} \\sqrt{\\Delta^{2} + 4 \\delta^{2} + \\varepsilon^{2}} : 1, & \\frac{1}{2} \\sqrt{\\Delta^{2} + 4 \\delta^{2} + \\varepsilon^{2}} : 1\\end{Bmatrix}$$"
       ],
       "metadata": {},
       "output_type": "pyout",
       "png": "[encoded data removed]",
       "prompt_number": 44,
       "text": [
        "\u23a7    _________________________         _________________________   \u23ab\n",
        "\u23aa   \u2571  2      2             2         \u2571  2      2             2    \u23aa\n",
        "\u23a8-\u2572\u2571  \u0394  + 4\u22c5\u03b4  + varepsilon        \u2572\u2571  \u0394  + 4\u22c5\u03b4  + varepsilon     \u23ac\n",
        "\u23aa\u2500\u2500\u2500\u2500\u2500\u2500\u2500\u2500\u2500\u2500\u2500\u2500\u2500\u2500\u2500\u2500\u2500\u2500\u2500\u2500\u2500\u2500\u2500\u2500\u2500\u2500\u2500\u2500\u2500\u2500: 1, \u2500\u2500\u2500\u2500\u2500\u2500\u2500\u2500\u2500\u2500\u2500\u2500\u2500\u2500\u2500\u2500\u2500\u2500\u2500\u2500\u2500\u2500\u2500\u2500\u2500\u2500\u2500\u2500: 1\u23aa\n",
        "\u23a9              2                                 2                 \u23ad"
       ]
      }
     ],
     "prompt_number": 44
    },
    {
     "cell_type": "heading",
     "level": 1,
     "metadata": {},
     "source": [
      "Tight binding for Flux-qubit"
     ]
    },
    {
     "cell_type": "markdown",
     "metadata": {},
     "source": [
      "\u0423\u0440\u0430\u0432\u043d\u0435\u043d\u0438\u0435 \u0428\u0440\u0435\u0434\u0438\u043d\u0433\u0435\u0440\u0430 \u0434\u043b\u044f \u043a\u0440\u0438\u0441\u0442\u0430\u043b\u043b\u0430 c \u0434\u0432\u0443\u0445\u0442\u043e\u0447\u0435\u0447\u043d\u044b\u043c \u0431\u0430\u0437\u0438\u0441\u043e\u043c:\n",
      "$$\n",
      "\\hat{\\mathcal{H}} \\psi = (\\mathcal{\\hat H}_{cell} +  \\Delta \\mathcal{U})\\psi = E\\psi, \\mathcal{\\hat H}_{cell} = -\\frac{\\hbar^2}{2m}\\nabla^2 + \\hat{U}_1 + \\hat{U}_2\n",
      "$$"
     ]
    },
    {
     "cell_type": "markdown",
     "metadata": {},
     "source": [
      "\u0411\u0443\u0434\u0435\u043c \u0438\u0441\u043a\u0430\u0442\u044c \u0440\u0435\u0448\u0435\u043d\u0438\u0435 \u044d\u0442\u043e\u0433\u043e \u0443\u0440\u0430\u0432\u043d\u0435\u043d\u0438\u044f \u0432 \u0432\u0438\u0434\u0435\n",
      "$$ \n",
      "\\psi(r) = \\sum_R e^{ikR}(a \\phi_1(r - R) + b \\phi_2(r-d-R),\\ \\phi_i = \\sum_n b_{in}\\psi_{in}\\ (\\mathcal{H}_{ati} \\psi_{in} = E_{in} \\psi_{in})\n",
      "$$"
     ]
    },
    {
     "cell_type": "markdown",
     "metadata": {},
     "source": [
      "\u0422\u0430\u043a \u043a\u0430\u043a \u0440\u0435\u0448\u0430\u0442\u044c \u0432 \u0442\u0430\u043a\u043e\u043c \u0432\u0438\u0434\u0435 \u0431\u0443\u0434\u0435\u0442 \u043e\u0447\u0435\u043d\u044c \u0441\u043b\u043e\u0436\u043d\u043e, \u0441\u0440\u0430\u0437\u0443 \u0433\u043e\u0432\u043e\u0440\u0438\u043c \u043e \u0432\u0437\u0430\u0438\u043c\u043e\u0434\u0435\u0441\u0442\u0432\u0438\u0438 \u0442\u043e\u043b\u044c\u043a\u043e \u043d\u0438\u0436\u043d\u0438\u0445 \u0443\u0440\u043e\u0432\u043d\u0435\u0439, $b_{i0}\\neq0$"
     ]
    },
    {
     "cell_type": "markdown",
     "metadata": {},
     "source": [
      "\u041f\u043e\u0434\u0441\u0442\u0430\u0432\u043b\u044f\u0435\u043c, \u0443\u043c\u043d\u043e\u0436\u0430\u0435\u043c \u0441\u043b\u0435\u0432\u0430 \u043d\u0430 $\\psi_{1m}^*$ \u0438 \u0431\u0435\u0440\u0435\u043c \u0438\u043d\u0442\u0435\u0445\u0440\u0430\u043b:\n",
      "$$\n",
      "\\int \\psi_{1m}^* \\mathcal{\\hat H}_{cell} \\psi  + \\psi_{1m}^* \\mathcal{\\Delta U}_{at} \\psi\\, dr = E(k) \\int \\psi_{1m}^* \\psi\\, dr \n",
      "$$"
     ]
    },
    {
     "cell_type": "markdown",
     "metadata": {},
     "source": [
      "$$\n",
      "\\sum_R e^{ikR}\\int \\psi_{1m}(r)^* (\\mathcal{\\hat H}_{cell} + \\mathcal{\\Delta U}_{at}) [ab_{10}\\psi_{10}(r-R) + b b_{20}\\psi_{20}(R-r)] \\, dr = E(k) \\int \\psi_{1m}^* \\psi\\, dr \\\\\n",
      "(E(k) - E_m) \\int \\psi_m^*  \\psi\\, dr = \\int \\psi_m^* \\mathcal{\\Delta U}_{at} \\psi\\, dr\n",
      "$$"
     ]
    },
    {
     "cell_type": "code",
     "collapsed": false,
     "input": [],
     "language": "python",
     "metadata": {},
     "outputs": []
    },
    {
     "cell_type": "markdown",
     "metadata": {},
     "source": [
      "$$\n",
      "(E(k) - E_m) \\sum_{R,\\ n} b_n e^{ikR} \\int \\psi_m^*(r)  \\psi_n(r-R) \\, dr =  \\sum_{R,\\ n} e^{ikR} b_n \\int \\psi_m(r)^* \\mathcal{\\Delta U}_{at} \\psi_n (r-R)\\, dr\n",
      "$$"
     ]
    },
    {
     "cell_type": "markdown",
     "metadata": {},
     "source": [
      "$$\n",
      "(E(k) - E_m) b_m = - (E(k) - E_m) \\sum_{R\\neq0,\\ n} b_n\\ e^{ikR} \\int \\psi_m^*(r)  \\psi_n(r-R) \\, dr +\\\\\n",
      "\\sum_n  b_n \\int \\psi_m(r)^* \\mathcal{\\Delta U} \\psi_n (r)\\, dr + \\sum_{R\\neq0,\\ n} e^{ikR} b_n \\int \\psi_m(r)^* \\mathcal{\\Delta U} \\psi_n (r-R)\\, dr\n",
      "$$"
     ]
    },
    {
     "cell_type": "markdown",
     "metadata": {},
     "source": [
      "\u0422\u0435\u043f\u0435\u0440\u044c \u0440\u0430\u0441\u0441\u043c\u0430\u0442\u0440\u0438\u0432\u0430\u0435\u043c s-\u0443\u0440\u043e\u0432\u0435\u043d\u044c \u0432 \u043e\u0434\u043d\u043e\u0439 \u0438\u0437 \u044f\u043c: $b_n=0\\ \\forall n\\neq0$:\n",
      "$$\n",
      "E(k) - E_0 =  \\frac{\\int |\\psi_0(r)|^2 \\mathcal{\\Delta U}\\, dr + \\sum_{R\\neq0} e^{ikR} \\int \\psi_0(r)^* \\mathcal{\\Delta U} \\psi_0 (r-R)\\, dr}{1 + \\sum_{R\\neq0}e^{ikR} \\int \\psi_0^*(r)  \\psi_0(r-R)}\n",
      "$$"
     ]
    },
    {
     "cell_type": "code",
     "collapsed": false,
     "input": [
      "A = sympy.Matrix(2, 2, lambda i,j:sympy.var('A_%d%d' % (i+1,j+1)))\n",
      "B = sympy.Matrix(2, 2, lambda i,j:sympy.var('B_%d%d' % (i+1,j+1)))\n",
      "B = Matrix([[1,0], [0, 1]])\n",
      "var(\"lambda_\")\n",
      "eq =det(A-lambda_*B)\n",
      "solution = solve(eq, lambda_)"
     ],
     "language": "python",
     "metadata": {},
     "outputs": [],
     "prompt_number": 31
    },
    {
     "cell_type": "code",
     "collapsed": false,
     "input": [
      "solution[0].subs(A_11, )"
     ],
     "language": "python",
     "metadata": {},
     "outputs": [
      {
       "latex": [
        "$$\\frac{A_{11}}{2} + \\frac{A_{22}}{2} - \\frac{1}{2} \\sqrt{A_{11}^{2} - 2 A_{11} A_{22} + 4 A_{12} A_{21} + A_{22}^{2}}$$"
       ],
       "metadata": {},
       "output_type": "pyout",
       "png": "[encoded data removed]",
       "prompt_number": 33,
       "text": [
        "               _____________________________________\n",
        "              \u2571    2                              2 \n",
        "A\u2081\u2081   A\u2082\u2082   \u2572\u2571  A\u2081\u2081  - 2\u22c5A\u2081\u2081\u22c5A\u2082\u2082 + 4\u22c5A\u2081\u2082\u22c5A\u2082\u2081 + A\u2082\u2082  \n",
        "\u2500\u2500\u2500 + \u2500\u2500\u2500 - \u2500\u2500\u2500\u2500\u2500\u2500\u2500\u2500\u2500\u2500\u2500\u2500\u2500\u2500\u2500\u2500\u2500\u2500\u2500\u2500\u2500\u2500\u2500\u2500\u2500\u2500\u2500\u2500\u2500\u2500\u2500\u2500\u2500\u2500\u2500\u2500\u2500\u2500\u2500\u2500\n",
        " 2     2                       2                    "
       ]
      }
     ],
     "prompt_number": 33
    }
   ],
   "metadata": {}
  }
 ]
}