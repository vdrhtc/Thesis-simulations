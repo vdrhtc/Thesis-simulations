{
 "cells": [
  {
   "cell_type": "code",
   "execution_count": 1,
   "metadata": {
    "collapsed": false
   },
   "outputs": [],
   "source": [
    "from sympy import *\n",
    "init_printing()\n",
    "from sympsi import *\n",
    "from sympsi.boson import *\n",
    "from sympsi.operatorordering import *\n",
    "from sympsi.pauli import *"
   ]
  },
  {
   "cell_type": "code",
   "execution_count": 17,
   "metadata": {
    "collapsed": false
   },
   "outputs": [],
   "source": [
    "from sympy.physics.quantum.tensorproduct import TensorProduct as tp"
   ]
  },
  {
   "cell_type": "code",
   "execution_count": 3,
   "metadata": {
    "collapsed": false
   },
   "outputs": [],
   "source": [
    "omega_r, varepsilon, Delta, g, theta, Omega = symbols(\"omega_r varepsilon Delta g theta Omega\", positive=True, real=True)\n",
    "Hsym = symbols(\"H\")\n",
    "a = BosonOp(\"a\")\n",
    "sx, sy, sz, sp, sm = SigmaX(), SigmaY(), SigmaZ(), SigmaPlus(), SigmaMinus()"
   ]
  },
  {
   "cell_type": "code",
   "execution_count": 4,
   "metadata": {
    "collapsed": false
   },
   "outputs": [
    {
     "data": {
      "image/png": "[encoded data removed]",
      "text/latex": [
       "$$H = \\frac{\\Delta {\\sigma_x}}{2} + g \\left({{a}^\\dagger} + {a}\\right) {\\sigma_z} + \\omega_{r} \\left(0.5 + {{a}^\\dagger} {a}\\right) + \\frac{\\varepsilon {\\sigma_z}}{2}$$"
      ],
      "text/plain": [
       "    Δ⋅False     ⎛ †    ⎞            ⎛       †  ⎞   varepsilon⋅False\n",
       "H = ─────── + g⋅⎝a  + a⎠⋅False + ωᵣ⋅⎝0.5 + a ⋅a⎠ + ────────────────\n",
       "       2                                                  2        "
      ]
     },
     "execution_count": 4,
     "metadata": {},
     "output_type": "execute_result"
    }
   ],
   "source": [
    "H0 = omega_r * (Dagger(a) * a+1/2)+sz*varepsilon/2+Delta/2*sx+g*(Dagger(a)+a)*sz\n",
    "Eq(Hsym, H0)"
   ]
  },
  {
   "cell_type": "code",
   "execution_count": 5,
   "metadata": {
    "collapsed": false
   },
   "outputs": [
    {
     "data": {
      "image/png": "[encoded data removed]",
      "text/latex": [
       "$$e^{- \\frac{i {\\sigma_y}}{2} \\operatorname{atan}{\\left (\\frac{\\varepsilon}{\\Delta} \\right )}}$$"
      ],
      "text/plain": [
       "        ⎛varepsilon⎞       \n",
       " -ⅈ⋅atan⎜──────────⎟⋅False \n",
       "        ⎝    Δ     ⎠       \n",
       " ──────────────────────────\n",
       "             2             \n",
       "ℯ                          "
      ]
     },
     "execution_count": 5,
     "metadata": {},
     "output_type": "execute_result"
    }
   ],
   "source": [
    "U = exp(-I * atan(varepsilon/Delta)/2 * sy); U"
   ]
  },
  {
   "cell_type": "code",
   "execution_count": 6,
   "metadata": {
    "collapsed": false
   },
   "outputs": [
    {
     "data": {
      "image/png": "[encoded data removed]",
      "text/latex": [
       "$$e^{- \\frac{i \\theta}{2} {\\sigma_y}}$$"
      ],
      "text/plain": [
       " -ⅈ⋅θ⋅False \n",
       " ───────────\n",
       "      2     \n",
       "ℯ           "
      ]
     },
     "execution_count": 6,
     "metadata": {},
     "output_type": "execute_result"
    }
   ],
   "source": [
    "U1 = exp(-I * theta/2 * sy); U1"
   ]
  },
  {
   "cell_type": "code",
   "execution_count": 7,
   "metadata": {
    "collapsed": false
   },
   "outputs": [],
   "source": [
    "H11 = hamiltonian_transformation(U1, H0)"
   ]
  },
  {
   "cell_type": "code",
   "execution_count": 9,
   "metadata": {
    "collapsed": false
   },
   "outputs": [],
   "source": [
    "H11 = H11.subs(theta, pi/2)"
   ]
  },
  {
   "cell_type": "code",
   "execution_count": 10,
   "metadata": {
    "collapsed": false
   },
   "outputs": [
    {
     "data": {
      "image/png": "[encoded data removed]",
      "text/latex": [
       "$$- \\frac{\\Delta {\\sigma_z}}{2} + g \\left({{a}^\\dagger} + {a}\\right) {\\sigma_x} + \\omega_{r} \\left(0.5 + {{a}^\\dagger} {a}\\right) + \\frac{\\varepsilon {\\sigma_x}}{2}$$"
      ],
      "text/plain": [
       "  Δ⋅False     ⎛ †    ⎞            ⎛       †  ⎞   varepsilon⋅False\n",
       "- ─────── + g⋅⎝a  + a⎠⋅False + ωᵣ⋅⎝0.5 + a ⋅a⎠ + ────────────────\n",
       "     2                                                  2        "
      ]
     },
     "execution_count": 10,
     "metadata": {},
     "output_type": "execute_result"
    }
   ],
   "source": [
    "H11"
   ]
  },
  {
   "cell_type": "code",
   "execution_count": 9,
   "metadata": {
    "collapsed": false
   },
   "outputs": [],
   "source": [
    "H1 = hamiltonian_transformation(U, H11)"
   ]
  },
  {
   "cell_type": "code",
   "execution_count": 10,
   "metadata": {
    "collapsed": false
   },
   "outputs": [
    {
     "data": {
      "image/png": "[encoded data removed]",
      "text/latex": [
       "$$- \\frac{\\Delta}{2} \\left(\\frac{{\\sigma_z}}{\\sqrt{1 + \\frac{\\varepsilon^{2}}{\\Delta^{2}}}} + \\frac{\\varepsilon {\\sigma_x}}{\\Delta \\sqrt{1 + \\frac{\\varepsilon^{2}}{\\Delta^{2}}}}\\right) + g \\left({{a}^\\dagger} + {a}\\right) \\left(\\frac{{\\sigma_x}}{\\sqrt{1 + \\frac{\\varepsilon^{2}}{\\Delta^{2}}}} - \\frac{\\varepsilon {\\sigma_z}}{\\Delta \\sqrt{1 + \\frac{\\varepsilon^{2}}{\\Delta^{2}}}}\\right) + \\omega_{r} \\left(0.5 + {{a}^\\dagger} {a}\\right) + \\frac{\\varepsilon}{2} \\left(\\frac{{\\sigma_x}}{\\sqrt{1 + \\frac{\\varepsilon^{2}}{\\Delta^{2}}}} - \\frac{\\varepsilon {\\sigma_z}}{\\Delta \\sqrt{1 + \\frac{\\varepsilon^{2}}{\\Delta^{2}}}}\\right)$$"
      ],
      "text/plain": [
       "    ⎛         False                 varepsilon⋅False    ⎞                     \n",
       "  Δ⋅⎜─────────────────────── + ─────────────────────────⎟                     \n",
       "    ⎜      _________________           _________________⎟                     \n",
       "    ⎜     ╱               2           ╱               2 ⎟                     \n",
       "    ⎜    ╱      varepsilon           ╱      varepsilon  ⎟                     \n",
       "    ⎜   ╱   1 + ───────────    Δ⋅   ╱   1 + ─────────── ⎟                     \n",
       "    ⎜  ╱              2            ╱              2     ⎟                     \n",
       "    ⎝╲╱              Δ           ╲╱              Δ      ⎠     ⎛ †    ⎞ ⎛      \n",
       "- ─────────────────────────────────────────────────────── + g⋅⎝a  + a⎠⋅⎜──────\n",
       "                             2                                         ⎜      \n",
       "                                                                       ⎜     ╱\n",
       "                                                                       ⎜    ╱ \n",
       "                                                                       ⎜   ╱  \n",
       "                                                                       ⎜  ╱   \n",
       "                                                                       ⎝╲╱    \n",
       "\n",
       "                                                                              \n",
       "                                                                   varepsilon⋅\n",
       "                                                                              \n",
       "                                                                              \n",
       "                                                                              \n",
       "                                                                              \n",
       "                                                                              \n",
       "   False                 varepsilon⋅False    ⎞      ⎛       †  ⎞              \n",
       "───────────────── - ─────────────────────────⎟ + ωᵣ⋅⎝0.5 + a ⋅a⎠ + ───────────\n",
       "_________________           _________________⎟                                \n",
       "               2           ╱               2 ⎟                                \n",
       "     varepsilon           ╱      varepsilon  ⎟                                \n",
       " 1 + ───────────    Δ⋅   ╱   1 + ─────────── ⎟                                \n",
       "           2            ╱              2     ⎟                                \n",
       "          Δ           ╲╱              Δ      ⎠                                \n",
       "\n",
       "⎛         False                 varepsilon⋅False    ⎞\n",
       "⎜─────────────────────── - ─────────────────────────⎟\n",
       "⎜      _________________           _________________⎟\n",
       "⎜     ╱               2           ╱               2 ⎟\n",
       "⎜    ╱      varepsilon           ╱      varepsilon  ⎟\n",
       "⎜   ╱   1 + ───────────    Δ⋅   ╱   1 + ─────────── ⎟\n",
       "⎜  ╱              2            ╱              2     ⎟\n",
       "⎝╲╱              Δ           ╲╱              Δ      ⎠\n",
       "─────────────────────────────────────────────────────\n",
       "                    2                                \n",
       "                                                     \n",
       "                                                     \n",
       "                                                     \n",
       "                                                     \n",
       "                                                     "
      ]
     },
     "execution_count": 10,
     "metadata": {},
     "output_type": "execute_result"
    }
   ],
   "source": [
    "H1"
   ]
  },
  {
   "cell_type": "code",
   "execution_count": 11,
   "metadata": {
    "collapsed": false
   },
   "outputs": [],
   "source": [
    "H2 = collect(collect(H1.expand(), (sx,sz)).expand(), (g, sz))"
   ]
  },
  {
   "cell_type": "code",
   "execution_count": 19,
   "metadata": {
    "collapsed": false
   },
   "outputs": [],
   "source": [
    "H_res = cancel(simplify(H2))"
   ]
  },
  {
   "cell_type": "code",
   "execution_count": 13,
   "metadata": {
    "collapsed": false
   },
   "outputs": [],
   "source": [
    "H11_2 = collect(drop_terms_containing(H11.subs(sx, sp+sm).expand(), [sp*a, sm*Dagger(a)]), (g, varepsilon)).subs(sp/2+sm/2, sx/2)"
   ]
  },
  {
   "cell_type": "code",
   "execution_count": 14,
   "metadata": {
    "collapsed": false
   },
   "outputs": [],
   "source": [
    "H1_2 = hamiltonian_transformation(U, H11_2)"
   ]
  },
  {
   "cell_type": "code",
   "execution_count": 114,
   "metadata": {
    "collapsed": false
   },
   "outputs": [
    {
     "data": {
      "image/png": "[encoded data removed]",
      "text/latex": [
       "$$g {{a}^\\dagger} \\left(- \\frac{{\\sigma_-}}{2} + \\frac{{\\sigma_+}}{2}\\right) + g {a} \\left(\\frac{{\\sigma_-}}{2} - \\frac{{\\sigma_+}}{2}\\right) + \\frac{g}{\\sqrt{\\Delta^{2} + \\varepsilon^{2}}} \\left(\\frac{\\Delta {{a}^\\dagger}}{2} {\\sigma_-} + \\frac{\\Delta {{a}^\\dagger}}{2} {\\sigma_+} + \\frac{\\Delta {a}}{2} {\\sigma_-} + \\frac{\\Delta {a}}{2} {\\sigma_+} - \\frac{\\varepsilon {{a}^\\dagger}}{2} {\\sigma_z} - \\frac{\\varepsilon {a}}{2} {\\sigma_z}\\right) + \\omega_{r} \\left(\\frac{1}{2} + {{a}^\\dagger} {a}\\right) - \\frac{{\\sigma_z}}{2} \\sqrt{\\Delta^{2} + \\varepsilon^{2}}$$"
      ],
      "text/plain": [
       "                                                 ⎛   †            †           \n",
       "                                                 ⎜Δ⋅a ⋅False   Δ⋅a ⋅False   Δ⋅\n",
       "                                               g⋅⎜────────── + ────────── + ──\n",
       "   † ⎛  False   False⎞       ⎛False   False⎞     ⎝    2            2          \n",
       "g⋅a ⋅⎜- ───── + ─────⎟ + g⋅a⋅⎜───── - ─────⎟ + ───────────────────────────────\n",
       "     ⎝    2       2  ⎠       ⎝  2       2  ⎠                                  \n",
       "                                                                              \n",
       "                                                                              \n",
       "\n",
       "                                  †                           ⎞               \n",
       "a⋅False   Δ⋅a⋅False   varepsilon⋅a ⋅False   varepsilon⋅a⋅False⎟               \n",
       "─────── + ───────── - ─────────────────── - ──────────────────⎟               \n",
       "  2           2                2                    2         ⎠      ⎛1    †  \n",
       "─────────────────────────────────────────────────────────────── + ωᵣ⋅⎜─ + a ⋅a\n",
       "        __________________                                           ⎝2       \n",
       "       ╱  2             2                                                     \n",
       "     ╲╱  Δ  + varepsilon                                                      \n",
       "\n",
       "                               \n",
       "       __________________      \n",
       "      ╱  2             2       \n",
       "⎞   ╲╱  Δ  + varepsilon  ⋅False\n",
       "⎟ - ───────────────────────────\n",
       "⎠                2             \n",
       "                               \n",
       "                               "
      ]
     },
     "execution_count": 114,
     "metadata": {},
     "output_type": "execute_result"
    }
   ],
   "source": [
    "factor(simplify(H1_2.subs(sx, sm+sp).expand().collect(g).collect(sz)).expand(deep=False).collect(g/sqrt(Delta**2+varepsilon**2))\\\n",
    ".collect(omega_r).collect(Dagger(a*g/2)).collect(-a*g/2))"
   ]
  },
  {
   "cell_type": "code",
   "execution_count": 77,
   "metadata": {
    "collapsed": false
   },
   "outputs": [
    {
     "data": {
      "image/png": "[encoded data removed]",
      "text/latex": [
       "$$g \\left({{a}^\\dagger} {\\sigma_+} - \\frac{{{a}^\\dagger} {\\sigma_x}}{2} + {a} {\\sigma_-} - \\frac{{a} {\\sigma_x}}{2} + \\frac{1}{\\sqrt{\\Delta^{2} + \\varepsilon^{2}}} \\left(\\frac{\\Delta {{a}^\\dagger}}{2} {\\sigma_x} + \\frac{\\Delta {a}}{2} {\\sigma_x} - \\frac{\\varepsilon {{a}^\\dagger}}{2} {\\sigma_z} - \\frac{\\varepsilon {a}}{2} {\\sigma_z}\\right)\\right) + \\omega_{r} \\left(\\frac{1}{2} + {{a}^\\dagger} {a}\\right) - \\frac{{\\sigma_z}}{2} \\sqrt{\\Delta^{2} + \\varepsilon^{2}}$$"
      ],
      "text/plain": [
       "  ⎛                                             †                             \n",
       "  ⎜                                          Δ⋅a ⋅False   Δ⋅a⋅False   varepsil\n",
       "  ⎜            †                             ────────── + ───────── - ────────\n",
       "  ⎜ †         a ⋅False             a⋅False       2            2               \n",
       "g⋅⎜a ⋅False - ──────── + a⋅False - ─────── + ─────────────────────────────────\n",
       "  ⎜              2                    2                               ________\n",
       "  ⎜                                                                  ╱  2     \n",
       "  ⎝                                                                ╲╱  Δ  + va\n",
       "\n",
       "    †                           ⎞                                             \n",
       "on⋅a ⋅False   varepsilon⋅a⋅False⎟                      __________________     \n",
       "─────────── - ──────────────────⎟                     ╱  2             2      \n",
       " 2                    2         ⎟      ⎛1    †  ⎞   ╲╱  Δ  + varepsilon  ⋅Fals\n",
       "────────────────────────────────⎟ + ωᵣ⋅⎜─ + a ⋅a⎟ - ──────────────────────────\n",
       "__________                      ⎟      ⎝2       ⎠                2            \n",
       "        2                       ⎟                                             \n",
       "repsilon                        ⎠                                             \n",
       "\n",
       " \n",
       " \n",
       " \n",
       "e\n",
       "─\n",
       " \n",
       " \n",
       " "
      ]
     },
     "execution_count": 77,
     "metadata": {},
     "output_type": "execute_result"
    }
   ],
   "source": [
    "simplify(H1_2.expan`d().collect(g).collect(sz)).expand(deep=False).collect(g/(2*sqrt(Delta**2+varepsilon**2))).collect(g).collect(omega_r)"
   ]
  },
  {
   "cell_type": "code",
   "execution_count": 76,
   "metadata": {
    "collapsed": false
   },
   "outputs": [
    {
     "data": {
      "image/png": "[encoded data removed]",
      "text/latex": [
       "$$\\frac{g}{\\sqrt{\\Delta^{2} + \\varepsilon^{2}}} \\left(\\Delta {\\sigma_x} {{a}^\\dagger} + \\Delta {\\sigma_x} {a} - \\varepsilon {\\sigma_z} {{a}^\\dagger} - \\varepsilon {\\sigma_z} {a}\\right) + \\omega_{r} \\left(\\frac{1}{2} + {{a}^\\dagger} {a}\\right) - \\frac{{\\sigma_z}}{2} \\sqrt{\\Delta^{2} + \\varepsilon^{2}}$$"
      ],
      "text/plain": [
       "                                                                              \n",
       "  ⎛         †                                 †                     ⎞         \n",
       "g⋅⎝Δ⋅False⋅a  + Δ⋅False⋅a - varepsilon⋅False⋅a  - varepsilon⋅False⋅a⎠      ⎛1 \n",
       "───────────────────────────────────────────────────────────────────── + ωᵣ⋅⎜─ \n",
       "                           __________________                              ⎝2 \n",
       "                          ╱  2             2                                  \n",
       "                        ╲╱  Δ  + varepsilon                                   \n",
       "\n",
       "             __________________      \n",
       "            ╱  2             2       \n",
       "   †  ⎞   ╲╱  Δ  + varepsilon  ⋅False\n",
       "+ a ⋅a⎟ - ───────────────────────────\n",
       "      ⎠                2             \n",
       "                                     \n",
       "                                     "
      ]
     },
     "execution_count": 76,
     "metadata": {},
     "output_type": "execute_result"
    }
   ],
   "source": [
    "simplify(collect(collect(H_res.expand(), g), sz)).expand(deep=False).collect(g/sqrt(Delta**2+varepsilon**2)).collect(omega_r)"
   ]
  },
  {
   "cell_type": "code",
   "execution_count": 15,
   "metadata": {
    "collapsed": false
   },
   "outputs": [
    {
     "data": {
      "image/png": "[encoded data removed]",
      "text/latex": [
       "$$\\frac{{\\sigma_z}}{\\sqrt{1 + \\frac{\\varepsilon^{2}}{\\Delta^{2}}}} + \\frac{\\varepsilon {\\sigma_x}}{\\Delta \\sqrt{1 + \\frac{\\varepsilon^{2}}{\\Delta^{2}}}}$$"
      ],
      "text/plain": [
       "         False                 varepsilon⋅False    \n",
       "─────────────────────── + ─────────────────────────\n",
       "      _________________           _________________\n",
       "     ╱               2           ╱               2 \n",
       "    ╱      varepsilon           ╱      varepsilon  \n",
       "   ╱   1 + ───────────    Δ⋅   ╱   1 + ─────────── \n",
       "  ╱              2            ╱              2     \n",
       "╲╱              Δ           ╲╱              Δ      "
      ]
     },
     "execution_count": 15,
     "metadata": {},
     "output_type": "execute_result"
    }
   ],
   "source": [
    "hamiltonian_transformation(exp(-I * theta/2 * sy), sz).subs(theta, atan(varepsilon/Delta))"
   ]
  },
  {
   "cell_type": "markdown",
   "metadata": {
    "collapsed": false
   },
   "source": [
    "#Flux qubit hamiltonian "
   ]
  },
  {
   "cell_type": "code",
   "execution_count": 20,
   "metadata": {
    "collapsed": false
   },
   "outputs": [
    {
     "data": {
      "image/png": "[encoded data removed]",
      "text/latex": [
       "$$\\left ( E_{J}, \\quad \\alpha, \\quad \\theta, \\quad \\phi, \\quad f, \\quad \\Phi_{0}\\right )$$"
      ],
      "text/plain": [
       "(E_J, α, θ, φ, f, Φ₀)"
      ]
     },
     "execution_count": 20,
     "metadata": {},
     "output_type": "execute_result"
    }
   ],
   "source": [
    "var(\"E_J alpha theta phi f Phi_0\")"
   ]
  },
  {
   "cell_type": "code",
   "execution_count": 21,
   "metadata": {
    "collapsed": false
   },
   "outputs": [],
   "source": [
    "U = E_J*(2+alpha - 2*cos(phi)*cos(theta) - alpha*cos(2*pi*(f-Phi_0/2)/Phi_0 - 2*phi))"
   ]
  },
  {
   "cell_type": "code",
   "execution_count": 26,
   "metadata": {
    "collapsed": false
   },
   "outputs": [],
   "source": [
    "derivative = U.diff(f).subs(f, 0)*f"
   ]
  },
  {
   "cell_type": "code",
   "execution_count": 33,
   "metadata": {
    "collapsed": false
   },
   "outputs": [
    {
     "data": {
      "image/png": "[encoded data removed]",
      "text/latex": [
       "$$\\frac{4 \\pi}{\\Phi_{0}} E_{J} f \\sqrt{0.25 - \\frac{0.0625}{\\alpha^{2}}}$$"
      ],
      "text/plain": [
       "               ___________________\n",
       "              ╱        - -0.0625  \n",
       "4⋅π⋅E_J⋅f⋅   ╱  0.25 - ────────── \n",
       "            ╱               2     \n",
       "          ╲╱               α      \n",
       "──────────────────────────────────\n",
       "                Φ₀                "
      ]
     },
     "execution_count": 33,
     "metadata": {},
     "output_type": "execute_result"
    }
   ],
   "source": [
    "trigsimp(derivative.subs(phi, acos(1/2/alpha))) -trigsimp(derivative.subs(phi, -acos(1/2/alpha)))"
   ]
  },
  {
   "cell_type": "markdown",
   "metadata": {
    "collapsed": true
   },
   "source": [
    "## Commutation with $\\sigma_x$"
   ]
  },
  {
   "cell_type": "code",
   "execution_count": 18,
   "metadata": {
    "collapsed": false
   },
   "outputs": [],
   "source": [
    "sx = Matrix([[0,1], [1,0]])\n",
    "i = Matrix([[1,0], [0,1]])\n",
    "rho = MatrixSymbol(\"rho\", 4, 1)"
   ]
  },
  {
   "cell_type": "code",
   "execution_count": 29,
   "metadata": {
    "collapsed": false
   },
   "outputs": [],
   "source": [
    "comm = (tp(sx, i) - tp(i, sx.T))"
   ]
  },
  {
   "cell_type": "code",
   "execution_count": 45,
   "metadata": {
    "collapsed": false
   },
   "outputs": [
    {
     "data": {
      "image/png": "[encoded data removed]",
      "text/latex": [
       "$$\\left[\\begin{matrix}0 & -1 & 1 & 0\\\\-1 & 0 & 0 & 1\\\\1 & 0 & 0 & -1\\\\0 & 1 & -1 & 0\\end{matrix}\\right]$$"
      ],
      "text/plain": [
       "⎡0   -1  1   0 ⎤\n",
       "⎢              ⎥\n",
       "⎢-1  0   0   1 ⎥\n",
       "⎢              ⎥\n",
       "⎢1   0   0   -1⎥\n",
       "⎢              ⎥\n",
       "⎣0   1   -1  0 ⎦"
      ]
     },
     "execution_count": 45,
     "metadata": {},
     "output_type": "execute_result"
    }
   ],
   "source": [
    "comm"
   ]
  },
  {
   "cell_type": "code",
   "execution_count": 44,
   "metadata": {
    "collapsed": false
   },
   "outputs": [
    {
     "data": {
      "image/png": "[encoded data removed]",
      "text/latex": [
       "$$\\left ( 0, \\quad 2, \\quad \\left [ \\left[\\begin{matrix}0\\\\1\\\\1\\\\0\\end{matrix}\\right], \\quad \\left[\\begin{matrix}1\\\\0\\\\0\\\\1\\end{matrix}\\right]\\right ]\\right )$$"
      ],
      "text/plain": [
       "⎛0, 2, ⎡⎡0⎤, ⎡1⎤⎤⎞\n",
       "⎜      ⎢⎢ ⎥  ⎢ ⎥⎥⎟\n",
       "⎜      ⎢⎢1⎥  ⎢0⎥⎥⎟\n",
       "⎜      ⎢⎢ ⎥  ⎢ ⎥⎥⎟\n",
       "⎜      ⎢⎢1⎥  ⎢0⎥⎥⎟\n",
       "⎜      ⎢⎢ ⎥  ⎢ ⎥⎥⎟\n",
       "⎝      ⎣⎣0⎦  ⎣1⎦⎦⎠"
      ]
     },
     "execution_count": 44,
     "metadata": {},
     "output_type": "execute_result"
    }
   ],
   "source": [
    "comm.eigenvects()[1]"
   ]
  },
  {
   "cell_type": "code",
   "execution_count": 2,
   "metadata": {
    "collapsed": true
   },
   "outputs": [],
   "source": [
    "M = Matrix([[1,0,-1],[1,-1,0],[1,1,1]])"
   ]
  },
  {
   "cell_type": "code",
   "execution_count": 5,
   "metadata": {
    "collapsed": false
   },
   "outputs": [],
   "source": [
    "a = M.solve(Matrix([2,5,12]))"
   ]
  },
  {
   "cell_type": "code",
   "execution_count": 9,
   "metadata": {
    "collapsed": false
   },
   "outputs": [
    {
     "data": {
      "image/png": "[encoded data removed]",
      "text/latex": [
       "$$12$$"
      ],
      "text/plain": [
       "12"
      ]
     },
     "execution_count": 9,
     "metadata": {},
     "output_type": "execute_result"
    }
   ],
   "source": [
    "sum(a)"
   ]
  },
  {
   "cell_type": "code",
   "execution_count": 10,
   "metadata": {
    "collapsed": false
   },
   "outputs": [
    {
     "data": {
      "image/png": "[encoded data removed]",
      "text/latex": [
       "$$\\left[\\begin{matrix}\\frac{19}{3}\\\\\\frac{4}{3}\\\\\\frac{13}{3}\\end{matrix}\\right]$$"
      ],
      "text/plain": [
       "⎡19/3⎤\n",
       "⎢    ⎥\n",
       "⎢4/3 ⎥\n",
       "⎢    ⎥\n",
       "⎣13/3⎦"
      ]
     },
     "execution_count": 10,
     "metadata": {},
     "output_type": "execute_result"
    }
   ],
   "source": [
    "a"
   ]
  },
  {
   "cell_type": "code",
   "execution_count": null,
   "metadata": {
    "collapsed": true
   },
   "outputs": [],
   "source": []
  }
 ],
 "metadata": {
  "kernelspec": {
   "display_name": "Python 3",
   "language": "python",
   "name": "python3"
  },
  "language_info": {
   "codemirror_mode": {
    "name": "ipython",
    "version": 3
   },
   "file_extension": ".py",
   "mimetype": "text/x-python",
   "name": "python",
   "nbconvert_exporter": "python",
   "pygments_lexer": "ipython3",
   "version": "3.3.2"
  }
 },
 "nbformat": 4,
 "nbformat_minor": 0
}
